{
 "cells": [
  {
   "cell_type": "code",
   "execution_count": 1,
   "metadata": {},
   "outputs": [
    {
     "name": "stderr",
     "output_type": "stream",
     "text": [
      "2023-03-03 10:53:58.504161: I tensorflow/core/platform/cpu_feature_guard.cc:193] This TensorFlow binary is optimized with oneAPI Deep Neural Network Library (oneDNN) to use the following CPU instructions in performance-critical operations:  AVX2 FMA\n",
      "To enable them in other operations, rebuild TensorFlow with the appropriate compiler flags.\n"
     ]
    }
   ],
   "source": [
    "import os\n",
    "import modules.util as util\n",
    "import math\n",
    "import numpy as np\n",
    "import modules.datagenerator as dtgen\n",
    "import modules.network as network\n",
    "import modules.loss as loss\n",
    "import tensorflow as tf\n",
    "from keras.callbacks import ModelCheckpoint\n",
    "from keras.callbacks import LearningRateScheduler\n",
    "from tensorflow import keras"
   ]
  },
  {
   "cell_type": "code",
   "execution_count": 2,
   "metadata": {},
   "outputs": [],
   "source": [
    "home=os.path.abspath(os.getcwd())\n",
    "data_path=os.path.join(home, 'data_train_valset')\n",
    "\n",
    "#global data\n",
    "pairs=[]\n",
    "classes=[]\n",
    "\n",
    "for file in os.listdir(data_path):\n",
    "    classes.append(file)"
   ]
  },
  {
   "cell_type": "code",
   "execution_count": 3,
   "metadata": {},
   "outputs": [],
   "source": [
    "util.make_pairs(data_path, pairs, classes)\n",
    "\n",
    "# partition = {'train': np.arange(math.floor(len(pairs)*.6)),\n",
    "#              'validation': np.arange(math.floor(len(pairs)*.6),math.floor(len(pairs)*.8)),\n",
    "#              'test': np.arange(math.floor(len(pairs)*.8), math.floor(len(pairs)))}\n",
    "\n",
    "partition = {'train': np.arange(math.floor(len(pairs)*.75)),\n",
    "             'validation': np.arange(math.floor(len(pairs)*.75),math.floor(len(pairs)))}\n",
    "\n",
    "# Generators\n",
    "train_generator = dtgen.DataGenerator(partition['train'], pairs, batch_size=16)\n",
    "val_generator = dtgen.DataGenerator(partition['validation'], pairs, batch_size=16)"
   ]
  },
  {
   "cell_type": "code",
   "execution_count": 4,
   "metadata": {},
   "outputs": [
    {
     "data": {
      "text/plain": [
       "5258"
      ]
     },
     "execution_count": 4,
     "metadata": {},
     "output_type": "execute_result"
    }
   ],
   "source": [
    "len(pairs)"
   ]
  },
  {
   "cell_type": "code",
   "execution_count": 7,
   "metadata": {},
   "outputs": [
    {
     "data": {
      "text/plain": [
       "3943"
      ]
     },
     "execution_count": 7,
     "metadata": {},
     "output_type": "execute_result"
    }
   ],
   "source": [
    "len(partition[\"train\"])"
   ]
  },
  {
   "cell_type": "code",
   "execution_count": 6,
   "metadata": {},
   "outputs": [
    {
     "data": {
      "text/plain": [
       "1315"
      ]
     },
     "execution_count": 6,
     "metadata": {},
     "output_type": "execute_result"
    }
   ],
   "source": [
    "len(partition[\"validation\"])"
   ]
  },
  {
   "cell_type": "code",
   "execution_count": 5,
   "metadata": {},
   "outputs": [
    {
     "data": {
      "text/plain": [
       "{'train': array([   0,    1,    2, ..., 3940, 3941, 3942]),\n",
       " 'validation': array([3943, 3944, 3945, ..., 5255, 5256, 5257])}"
      ]
     },
     "execution_count": 5,
     "metadata": {},
     "output_type": "execute_result"
    }
   ],
   "source": [
    "partition"
   ]
  },
  {
   "cell_type": "code",
   "execution_count": 4,
   "metadata": {},
   "outputs": [
    {
     "name": "stderr",
     "output_type": "stream",
     "text": [
      "All model checkpoint layers were used when initializing TFViTModel.\n",
      "\n",
      "All the layers of TFViTModel were initialized from the model checkpoint at google/vit-base-patch16-224-in21k.\n",
      "If your task is similar to the task the model of the checkpoint was trained on, you can already use TFViTModel for predictions without further training.\n"
     ]
    }
   ],
   "source": [
    "siamese_obj = network.SiameseNetwork()\n",
    "siamese_network = siamese_obj.make_siamese_net()"
   ]
  },
  {
   "cell_type": "code",
   "execution_count": 5,
   "metadata": {},
   "outputs": [
    {
     "name": "stdout",
     "output_type": "stream",
     "text": [
      "Model: \"siamese_network\"\n",
      "__________________________________________________________________________________________________\n",
      " Layer (type)                   Output Shape         Param #     Connected to                     \n",
      "==================================================================================================\n",
      " pixel_values1 (InputLayer)     [(None, 224, 224, 3  0           []                               \n",
      "                                )]                                                                \n",
      "                                                                                                  \n",
      " pixel_values2 (InputLayer)     [(None, 224, 224, 3  0           []                               \n",
      "                                )]                                                                \n",
      "                                                                                                  \n",
      " permute (Permute)              (None, 3, 224, 224)  0           ['pixel_values1[0][0]']          \n",
      "                                                                                                  \n",
      " permute_1 (Permute)            (None, 3, 224, 224)  0           ['pixel_values2[0][0]']          \n",
      "                                                                                                  \n",
      " vit (TFViTMainLayer)           TFBaseModelOutputWi  86389248    ['permute[0][0]',                \n",
      "                                thPooling(last_hidd               'permute_1[0][0]']              \n",
      "                                en_state=(None, 197                                               \n",
      "                                , 768),                                                           \n",
      "                                 pooler_output=(Non                                               \n",
      "                                e, 768),                                                          \n",
      "                                 hidden_states=None                                               \n",
      "                                , attentions=None)                                                \n",
      "                                                                                                  \n",
      " l1_dist (L1Dist)               (None, 197, 768)     0           ['vit[0][0]',                    \n",
      "                                                                  'vit[1][0]']                    \n",
      "                                                                                                  \n",
      " outputs (Dense)                (None, 197, 1)       769         ['l1_dist[0][0]']                \n",
      "                                                                                                  \n",
      "==================================================================================================\n",
      "Total params: 86,390,017\n",
      "Trainable params: 86,390,017\n",
      "Non-trainable params: 0\n",
      "__________________________________________________________________________________________________\n"
     ]
    }
   ],
   "source": [
    "siamese_network.summary()"
   ]
  },
  {
   "cell_type": "code",
   "execution_count": 6,
   "metadata": {},
   "outputs": [],
   "source": [
    "siamese_network.compile(loss= loss.loss(1), optimizer=tf.keras.optimizers.Adam(learning_rate=0.5e-3), # 0.5e-6\n",
    "                    metrics=[\"accuracy\"])"
   ]
  },
  {
   "cell_type": "code",
   "execution_count": 7,
   "metadata": {},
   "outputs": [],
   "source": [
    "checkpoint_path = os.path.join(home, 'checkpoints')\n",
    "checkpoint = ModelCheckpoint(checkpoint_path, monitor='val_accuracy', \n",
    "                             verbose=1, save_best_only=True, mode='max')\n",
    "early_callback=tf.keras.callbacks.EarlyStopping(monitor=\"val_accuracy\",patience=35, restore_best_weights=True)"
   ]
  },
  {
   "cell_type": "code",
   "execution_count": 8,
   "metadata": {},
   "outputs": [],
   "source": [
    "# callbacks_list = [early_callback,checkpoint]\n",
    "def scheduler(epoch, lr):\n",
    "    if epoch < 5:\n",
    "        return lr\n",
    "    else:\n",
    "        lr = lr * tf.math.exp(-0.05)\n",
    "        if lr >= 1e-8:\n",
    "            return lr\n",
    "        else:\n",
    "            return 1e-8\n",
    "# 0.5e-7\n",
    "\n",
    "class print_lr(tf.keras.callbacks.Callback):\n",
    "    def on_epoch_end(self, epoch, logs=None):\n",
    "        print(keras.backend.eval(self.model.optimizer.lr))\n",
    "\n",
    "lr_sched = LearningRateScheduler(scheduler)\n",
    "\n",
    "callbacks_list = [early_callback, lr_sched, checkpoint, print_lr()]"
   ]
  },
  {
   "cell_type": "code",
   "execution_count": 9,
   "metadata": {},
   "outputs": [
    {
     "name": "stdout",
     "output_type": "stream",
     "text": [
      "Epoch 1/500\n",
      "WARNING:tensorflow:Gradients do not exist for variables ['tf_vi_t_model/vit/pooler/dense/kernel:0', 'tf_vi_t_model/vit/pooler/dense/bias:0'] when minimizing the loss. If you're using `model.compile()`, did you forget to provide a `loss` argument?\n",
      "WARNING:tensorflow:Gradients do not exist for variables ['tf_vi_t_model/vit/pooler/dense/kernel:0', 'tf_vi_t_model/vit/pooler/dense/bias:0'] when minimizing the loss. If you're using `model.compile()`, did you forget to provide a `loss` argument?\n",
      "WARNING:tensorflow:Gradients do not exist for variables ['tf_vi_t_model/vit/pooler/dense/kernel:0', 'tf_vi_t_model/vit/pooler/dense/bias:0'] when minimizing the loss. If you're using `model.compile()`, did you forget to provide a `loss` argument?\n",
      "WARNING:tensorflow:Gradients do not exist for variables ['tf_vi_t_model/vit/pooler/dense/kernel:0', 'tf_vi_t_model/vit/pooler/dense/bias:0'] when minimizing the loss. If you're using `model.compile()`, did you forget to provide a `loss` argument?\n"
     ]
    },
    {
     "name": "stderr",
     "output_type": "stream",
     "text": [
      "2023-03-03 00:52:24.918341: W tensorflow/tsl/framework/bfc_allocator.cc:479] Allocator (GPU_0_bfc) ran out of memory trying to allocate 36.94MiB (rounded to 38731776)requested by op siamese_network/vit/encoder/layer_._5/intermediate/Gelu_1/Erf\n",
      "If the cause is memory fragmentation maybe the environment variable 'TF_GPU_ALLOCATOR=cuda_malloc_async' will improve the situation. \n",
      "Current allocation summary follows.\n",
      "Current allocation summary follows.\n",
      "2023-03-03 00:52:24.920033: W tensorflow/tsl/framework/bfc_allocator.cc:492] ****************************************************************************************************\n",
      "2023-03-03 00:52:24.922972: W tensorflow/tsl/framework/bfc_allocator.cc:479] Allocator (GPU_0_bfc) ran out of memory trying to allocate 36.94MiB (rounded to 38731776)requested by op siamese_network/vit/encoder/layer_._5/intermediate/dense/Tensordot/MatMul\n",
      "If the cause is memory fragmentation maybe the environment variable 'TF_GPU_ALLOCATOR=cuda_malloc_async' will improve the situation. \n",
      "Current allocation summary follows.\n",
      "Current allocation summary follows.\n",
      "2023-03-03 00:52:24.924507: W tensorflow/core/framework/op_kernel.cc:1818] RESOURCE_EXHAUSTED: failed to allocate memory\n",
      "2023-03-03 00:52:24.925041: W tensorflow/tsl/framework/bfc_allocator.cc:492] ****************************************************************************************************\n",
      "2023-03-03 00:52:24.925113: W tensorflow/core/framework/op_kernel.cc:1830] OP_REQUIRES failed at matmul_op_impl.h:731 : RESOURCE_EXHAUSTED: OOM when allocating tensor with shape[3152,3072] and type float on /job:localhost/replica:0/task:0/device:GPU:0 by allocator GPU_0_bfc\n"
     ]
    },
    {
     "ename": "ResourceExhaustedError",
     "evalue": "Graph execution error:\n\nDetected at node 'siamese_network/vit/encoder/layer_._5/intermediate/Gelu_1/Erf' defined at (most recent call last):\n    File \"/home/halim/anaconda3/envs/ViT-setup/lib/python3.10/runpy.py\", line 196, in _run_module_as_main\n      return _run_code(code, main_globals, None,\n    File \"/home/halim/anaconda3/envs/ViT-setup/lib/python3.10/runpy.py\", line 86, in _run_code\n      exec(code, run_globals)\n    File \"/home/halim/anaconda3/envs/ViT-setup/lib/python3.10/site-packages/ipykernel_launcher.py\", line 17, in <module>\n      app.launch_new_instance()\n    File \"/home/halim/.local/lib/python3.10/site-packages/traitlets/config/application.py\", line 992, in launch_instance\n      app.start()\n    File \"/home/halim/anaconda3/envs/ViT-setup/lib/python3.10/site-packages/ipykernel/kernelapp.py\", line 725, in start\n      self.io_loop.start()\n    File \"/home/halim/anaconda3/envs/ViT-setup/lib/python3.10/site-packages/tornado/platform/asyncio.py\", line 215, in start\n      self.asyncio_loop.run_forever()\n    File \"/home/halim/anaconda3/envs/ViT-setup/lib/python3.10/asyncio/base_events.py\", line 603, in run_forever\n      self._run_once()\n    File \"/home/halim/anaconda3/envs/ViT-setup/lib/python3.10/asyncio/base_events.py\", line 1906, in _run_once\n      handle._run()\n    File \"/home/halim/anaconda3/envs/ViT-setup/lib/python3.10/asyncio/events.py\", line 80, in _run\n      self._context.run(self._callback, *self._args)\n    File \"/home/halim/anaconda3/envs/ViT-setup/lib/python3.10/site-packages/ipykernel/kernelbase.py\", line 513, in dispatch_queue\n      await self.process_one()\n    File \"/home/halim/anaconda3/envs/ViT-setup/lib/python3.10/site-packages/ipykernel/kernelbase.py\", line 502, in process_one\n      await dispatch(*args)\n    File \"/home/halim/anaconda3/envs/ViT-setup/lib/python3.10/site-packages/ipykernel/kernelbase.py\", line 409, in dispatch_shell\n      await result\n    File \"/home/halim/anaconda3/envs/ViT-setup/lib/python3.10/site-packages/ipykernel/kernelbase.py\", line 729, in execute_request\n      reply_content = await reply_content\n    File \"/home/halim/anaconda3/envs/ViT-setup/lib/python3.10/site-packages/ipykernel/ipkernel.py\", line 422, in do_execute\n      res = shell.run_cell(\n    File \"/home/halim/anaconda3/envs/ViT-setup/lib/python3.10/site-packages/ipykernel/zmqshell.py\", line 540, in run_cell\n      return super().run_cell(*args, **kwargs)\n    File \"/home/halim/.local/lib/python3.10/site-packages/IPython/core/interactiveshell.py\", line 2940, in run_cell\n      result = self._run_cell(\n    File \"/home/halim/.local/lib/python3.10/site-packages/IPython/core/interactiveshell.py\", line 2995, in _run_cell\n      return runner(coro)\n    File \"/home/halim/.local/lib/python3.10/site-packages/IPython/core/async_helpers.py\", line 129, in _pseudo_sync_runner\n      coro.send(None)\n    File \"/home/halim/.local/lib/python3.10/site-packages/IPython/core/interactiveshell.py\", line 3194, in run_cell_async\n      has_raised = await self.run_ast_nodes(code_ast.body, cell_name,\n    File \"/home/halim/.local/lib/python3.10/site-packages/IPython/core/interactiveshell.py\", line 3373, in run_ast_nodes\n      if await self.run_code(code, result, async_=asy):\n    File \"/home/halim/.local/lib/python3.10/site-packages/IPython/core/interactiveshell.py\", line 3433, in run_code\n      exec(code_obj, self.user_global_ns, self.user_ns)\n    File \"/tmp/ipykernel_24325/2135819033.py\", line 6, in <module>\n      history = siamese_network.fit(\n    File \"/home/halim/anaconda3/envs/ViT-setup/lib/python3.10/site-packages/keras/utils/traceback_utils.py\", line 65, in error_handler\n      return fn(*args, **kwargs)\n    File \"/home/halim/anaconda3/envs/ViT-setup/lib/python3.10/site-packages/keras/engine/training.py\", line 1650, in fit\n      tmp_logs = self.train_function(iterator)\n    File \"/home/halim/anaconda3/envs/ViT-setup/lib/python3.10/site-packages/keras/engine/training.py\", line 1249, in train_function\n      return step_function(self, iterator)\n    File \"/home/halim/anaconda3/envs/ViT-setup/lib/python3.10/site-packages/keras/engine/training.py\", line 1233, in step_function\n      outputs = model.distribute_strategy.run(run_step, args=(data,))\n    File \"/home/halim/anaconda3/envs/ViT-setup/lib/python3.10/site-packages/keras/engine/training.py\", line 1222, in run_step\n      outputs = model.train_step(data)\n    File \"/home/halim/anaconda3/envs/ViT-setup/lib/python3.10/site-packages/keras/engine/training.py\", line 1023, in train_step\n      y_pred = self(x, training=True)\n    File \"/home/halim/anaconda3/envs/ViT-setup/lib/python3.10/site-packages/keras/utils/traceback_utils.py\", line 65, in error_handler\n      return fn(*args, **kwargs)\n    File \"/home/halim/anaconda3/envs/ViT-setup/lib/python3.10/site-packages/keras/engine/training.py\", line 561, in __call__\n      return super().__call__(*args, **kwargs)\n    File \"/home/halim/anaconda3/envs/ViT-setup/lib/python3.10/site-packages/keras/utils/traceback_utils.py\", line 65, in error_handler\n      return fn(*args, **kwargs)\n    File \"/home/halim/anaconda3/envs/ViT-setup/lib/python3.10/site-packages/keras/engine/base_layer.py\", line 1132, in __call__\n      outputs = call_fn(inputs, *args, **kwargs)\n    File \"/home/halim/anaconda3/envs/ViT-setup/lib/python3.10/site-packages/keras/utils/traceback_utils.py\", line 96, in error_handler\n      return fn(*args, **kwargs)\n    File \"/home/halim/anaconda3/envs/ViT-setup/lib/python3.10/site-packages/keras/engine/functional.py\", line 511, in call\n      return self._run_internal_graph(inputs, training=training, mask=mask)\n    File \"/home/halim/anaconda3/envs/ViT-setup/lib/python3.10/site-packages/keras/engine/functional.py\", line 668, in _run_internal_graph\n      outputs = node.layer(*args, **kwargs)\n    File \"/home/halim/anaconda3/envs/ViT-setup/lib/python3.10/site-packages/keras/utils/traceback_utils.py\", line 65, in error_handler\n      return fn(*args, **kwargs)\n    File \"/home/halim/anaconda3/envs/ViT-setup/lib/python3.10/site-packages/keras/engine/base_layer.py\", line 1132, in __call__\n      outputs = call_fn(inputs, *args, **kwargs)\n    File \"/home/halim/anaconda3/envs/ViT-setup/lib/python3.10/site-packages/keras/utils/traceback_utils.py\", line 96, in error_handler\n      return fn(*args, **kwargs)\n    File \"/home/halim/anaconda3/envs/ViT-setup/lib/python3.10/site-packages/transformers/modeling_tf_utils.py\", line 505, in run_call_with_unpacked_inputs\n      for k, v in kwargs.items():\n    File \"/home/halim/anaconda3/envs/ViT-setup/lib/python3.10/site-packages/transformers/models/vit/modeling_tf_vit.py\", line 519, in call\n      encoder_outputs = self.encoder(\n    File \"/home/halim/anaconda3/envs/ViT-setup/lib/python3.10/site-packages/keras/utils/traceback_utils.py\", line 65, in error_handler\n      return fn(*args, **kwargs)\n    File \"/home/halim/anaconda3/envs/ViT-setup/lib/python3.10/site-packages/keras/engine/base_layer.py\", line 1132, in __call__\n      outputs = call_fn(inputs, *args, **kwargs)\n    File \"/home/halim/anaconda3/envs/ViT-setup/lib/python3.10/site-packages/keras/utils/traceback_utils.py\", line 96, in error_handler\n      return fn(*args, **kwargs)\n    File \"/home/halim/anaconda3/envs/ViT-setup/lib/python3.10/site-packages/transformers/models/vit/modeling_tf_vit.py\", line 437, in call\n      for i, layer_module in enumerate(self.layer):\n    File \"/home/halim/anaconda3/envs/ViT-setup/lib/python3.10/site-packages/transformers/models/vit/modeling_tf_vit.py\", line 441, in call\n      layer_outputs = layer_module(\n    File \"/home/halim/anaconda3/envs/ViT-setup/lib/python3.10/site-packages/keras/utils/traceback_utils.py\", line 65, in error_handler\n      return fn(*args, **kwargs)\n    File \"/home/halim/anaconda3/envs/ViT-setup/lib/python3.10/site-packages/keras/engine/base_layer.py\", line 1132, in __call__\n      outputs = call_fn(inputs, *args, **kwargs)\n    File \"/home/halim/anaconda3/envs/ViT-setup/lib/python3.10/site-packages/keras/utils/traceback_utils.py\", line 96, in error_handler\n      return fn(*args, **kwargs)\n    File \"/home/halim/anaconda3/envs/ViT-setup/lib/python3.10/site-packages/transformers/models/vit/modeling_tf_vit.py\", line 408, in call\n      intermediate_output = self.intermediate(hidden_states=layer_output)\n    File \"/home/halim/anaconda3/envs/ViT-setup/lib/python3.10/site-packages/keras/utils/traceback_utils.py\", line 65, in error_handler\n      return fn(*args, **kwargs)\n    File \"/home/halim/anaconda3/envs/ViT-setup/lib/python3.10/site-packages/keras/engine/base_layer.py\", line 1132, in __call__\n      outputs = call_fn(inputs, *args, **kwargs)\n    File \"/home/halim/anaconda3/envs/ViT-setup/lib/python3.10/site-packages/keras/utils/traceback_utils.py\", line 96, in error_handler\n      return fn(*args, **kwargs)\n    File \"/home/halim/anaconda3/envs/ViT-setup/lib/python3.10/site-packages/transformers/models/vit/modeling_tf_vit.py\", line 347, in call\n      hidden_states = self.intermediate_act_fn(hidden_states)\n    File \"/home/halim/anaconda3/envs/ViT-setup/lib/python3.10/site-packages/keras/activations.py\", line 359, in gelu\n      return tf.nn.gelu(x, approximate)\nNode: 'siamese_network/vit/encoder/layer_._5/intermediate/Gelu_1/Erf'\nfailed to allocate memory\n\t [[{{node siamese_network/vit/encoder/layer_._5/intermediate/Gelu_1/Erf}}]]\nHint: If you want to see a list of allocated tensors when OOM happens, add report_tensor_allocations_upon_oom to RunOptions for current allocation info. This isn't available when running in Eager mode.\n [Op:__inference_train_function_55001]",
     "output_type": "error",
     "traceback": [
      "\u001b[0;31m---------------------------------------------------------------------------\u001b[0m",
      "\u001b[0;31mResourceExhaustedError\u001b[0m                    Traceback (most recent call last)",
      "Cell \u001b[0;32mIn[9], line 6\u001b[0m\n\u001b[1;32m      4\u001b[0m batch_size\u001b[39m=\u001b[39m\u001b[39m32\u001b[39m\n\u001b[1;32m      5\u001b[0m epochs\u001b[39m=\u001b[39m\u001b[39m500\u001b[39m\n\u001b[0;32m----> 6\u001b[0m history \u001b[39m=\u001b[39m siamese_network\u001b[39m.\u001b[39;49mfit(\n\u001b[1;32m      7\u001b[0m     train_generator,\n\u001b[1;32m      8\u001b[0m     validation_data\u001b[39m=\u001b[39;49mval_generator,\n\u001b[1;32m      9\u001b[0m     callbacks\u001b[39m=\u001b[39;49mcallbacks_list,\n\u001b[1;32m     10\u001b[0m     epochs\u001b[39m=\u001b[39;49mepochs,\n\u001b[1;32m     11\u001b[0m )\n\u001b[1;32m     12\u001b[0m \u001b[39m# history = siamese_net.fit(\u001b[39;00m\n\u001b[1;32m     13\u001b[0m \u001b[39m#     [x_train_1, x_train_2],\u001b[39;00m\n\u001b[1;32m     14\u001b[0m \u001b[39m#     y_train,\u001b[39;00m\n\u001b[0;32m   (...)\u001b[0m\n\u001b[1;32m     19\u001b[0m \u001b[39m#     # sample_weight=sample_weight,\u001b[39;00m\n\u001b[1;32m     20\u001b[0m \u001b[39m# )\u001b[39;00m\n\u001b[1;32m     22\u001b[0m \u001b[39mprint\u001b[39m(\u001b[39mmax\u001b[39m(history\u001b[39m.\u001b[39mhistory[\u001b[39m\"\u001b[39m\u001b[39mval_accuracy\u001b[39m\u001b[39m\"\u001b[39m]))\n",
      "File \u001b[0;32m~/anaconda3/envs/ViT-setup/lib/python3.10/site-packages/keras/utils/traceback_utils.py:70\u001b[0m, in \u001b[0;36mfilter_traceback.<locals>.error_handler\u001b[0;34m(*args, **kwargs)\u001b[0m\n\u001b[1;32m     67\u001b[0m     filtered_tb \u001b[39m=\u001b[39m _process_traceback_frames(e\u001b[39m.\u001b[39m__traceback__)\n\u001b[1;32m     68\u001b[0m     \u001b[39m# To get the full stack trace, call:\u001b[39;00m\n\u001b[1;32m     69\u001b[0m     \u001b[39m# `tf.debugging.disable_traceback_filtering()`\u001b[39;00m\n\u001b[0;32m---> 70\u001b[0m     \u001b[39mraise\u001b[39;00m e\u001b[39m.\u001b[39mwith_traceback(filtered_tb) \u001b[39mfrom\u001b[39;00m \u001b[39mNone\u001b[39m\n\u001b[1;32m     71\u001b[0m \u001b[39mfinally\u001b[39;00m:\n\u001b[1;32m     72\u001b[0m     \u001b[39mdel\u001b[39;00m filtered_tb\n",
      "File \u001b[0;32m~/anaconda3/envs/ViT-setup/lib/python3.10/site-packages/tensorflow/python/eager/execute.py:52\u001b[0m, in \u001b[0;36mquick_execute\u001b[0;34m(op_name, num_outputs, inputs, attrs, ctx, name)\u001b[0m\n\u001b[1;32m     50\u001b[0m \u001b[39mtry\u001b[39;00m:\n\u001b[1;32m     51\u001b[0m   ctx\u001b[39m.\u001b[39mensure_initialized()\n\u001b[0;32m---> 52\u001b[0m   tensors \u001b[39m=\u001b[39m pywrap_tfe\u001b[39m.\u001b[39mTFE_Py_Execute(ctx\u001b[39m.\u001b[39m_handle, device_name, op_name,\n\u001b[1;32m     53\u001b[0m                                       inputs, attrs, num_outputs)\n\u001b[1;32m     54\u001b[0m \u001b[39mexcept\u001b[39;00m core\u001b[39m.\u001b[39m_NotOkStatusException \u001b[39mas\u001b[39;00m e:\n\u001b[1;32m     55\u001b[0m   \u001b[39mif\u001b[39;00m name \u001b[39mis\u001b[39;00m \u001b[39mnot\u001b[39;00m \u001b[39mNone\u001b[39;00m:\n",
      "\u001b[0;31mResourceExhaustedError\u001b[0m: Graph execution error:\n\nDetected at node 'siamese_network/vit/encoder/layer_._5/intermediate/Gelu_1/Erf' defined at (most recent call last):\n    File \"/home/halim/anaconda3/envs/ViT-setup/lib/python3.10/runpy.py\", line 196, in _run_module_as_main\n      return _run_code(code, main_globals, None,\n    File \"/home/halim/anaconda3/envs/ViT-setup/lib/python3.10/runpy.py\", line 86, in _run_code\n      exec(code, run_globals)\n    File \"/home/halim/anaconda3/envs/ViT-setup/lib/python3.10/site-packages/ipykernel_launcher.py\", line 17, in <module>\n      app.launch_new_instance()\n    File \"/home/halim/.local/lib/python3.10/site-packages/traitlets/config/application.py\", line 992, in launch_instance\n      app.start()\n    File \"/home/halim/anaconda3/envs/ViT-setup/lib/python3.10/site-packages/ipykernel/kernelapp.py\", line 725, in start\n      self.io_loop.start()\n    File \"/home/halim/anaconda3/envs/ViT-setup/lib/python3.10/site-packages/tornado/platform/asyncio.py\", line 215, in start\n      self.asyncio_loop.run_forever()\n    File \"/home/halim/anaconda3/envs/ViT-setup/lib/python3.10/asyncio/base_events.py\", line 603, in run_forever\n      self._run_once()\n    File \"/home/halim/anaconda3/envs/ViT-setup/lib/python3.10/asyncio/base_events.py\", line 1906, in _run_once\n      handle._run()\n    File \"/home/halim/anaconda3/envs/ViT-setup/lib/python3.10/asyncio/events.py\", line 80, in _run\n      self._context.run(self._callback, *self._args)\n    File \"/home/halim/anaconda3/envs/ViT-setup/lib/python3.10/site-packages/ipykernel/kernelbase.py\", line 513, in dispatch_queue\n      await self.process_one()\n    File \"/home/halim/anaconda3/envs/ViT-setup/lib/python3.10/site-packages/ipykernel/kernelbase.py\", line 502, in process_one\n      await dispatch(*args)\n    File \"/home/halim/anaconda3/envs/ViT-setup/lib/python3.10/site-packages/ipykernel/kernelbase.py\", line 409, in dispatch_shell\n      await result\n    File \"/home/halim/anaconda3/envs/ViT-setup/lib/python3.10/site-packages/ipykernel/kernelbase.py\", line 729, in execute_request\n      reply_content = await reply_content\n    File \"/home/halim/anaconda3/envs/ViT-setup/lib/python3.10/site-packages/ipykernel/ipkernel.py\", line 422, in do_execute\n      res = shell.run_cell(\n    File \"/home/halim/anaconda3/envs/ViT-setup/lib/python3.10/site-packages/ipykernel/zmqshell.py\", line 540, in run_cell\n      return super().run_cell(*args, **kwargs)\n    File \"/home/halim/.local/lib/python3.10/site-packages/IPython/core/interactiveshell.py\", line 2940, in run_cell\n      result = self._run_cell(\n    File \"/home/halim/.local/lib/python3.10/site-packages/IPython/core/interactiveshell.py\", line 2995, in _run_cell\n      return runner(coro)\n    File \"/home/halim/.local/lib/python3.10/site-packages/IPython/core/async_helpers.py\", line 129, in _pseudo_sync_runner\n      coro.send(None)\n    File \"/home/halim/.local/lib/python3.10/site-packages/IPython/core/interactiveshell.py\", line 3194, in run_cell_async\n      has_raised = await self.run_ast_nodes(code_ast.body, cell_name,\n    File \"/home/halim/.local/lib/python3.10/site-packages/IPython/core/interactiveshell.py\", line 3373, in run_ast_nodes\n      if await self.run_code(code, result, async_=asy):\n    File \"/home/halim/.local/lib/python3.10/site-packages/IPython/core/interactiveshell.py\", line 3433, in run_code\n      exec(code_obj, self.user_global_ns, self.user_ns)\n    File \"/tmp/ipykernel_24325/2135819033.py\", line 6, in <module>\n      history = siamese_network.fit(\n    File \"/home/halim/anaconda3/envs/ViT-setup/lib/python3.10/site-packages/keras/utils/traceback_utils.py\", line 65, in error_handler\n      return fn(*args, **kwargs)\n    File \"/home/halim/anaconda3/envs/ViT-setup/lib/python3.10/site-packages/keras/engine/training.py\", line 1650, in fit\n      tmp_logs = self.train_function(iterator)\n    File \"/home/halim/anaconda3/envs/ViT-setup/lib/python3.10/site-packages/keras/engine/training.py\", line 1249, in train_function\n      return step_function(self, iterator)\n    File \"/home/halim/anaconda3/envs/ViT-setup/lib/python3.10/site-packages/keras/engine/training.py\", line 1233, in step_function\n      outputs = model.distribute_strategy.run(run_step, args=(data,))\n    File \"/home/halim/anaconda3/envs/ViT-setup/lib/python3.10/site-packages/keras/engine/training.py\", line 1222, in run_step\n      outputs = model.train_step(data)\n    File \"/home/halim/anaconda3/envs/ViT-setup/lib/python3.10/site-packages/keras/engine/training.py\", line 1023, in train_step\n      y_pred = self(x, training=True)\n    File \"/home/halim/anaconda3/envs/ViT-setup/lib/python3.10/site-packages/keras/utils/traceback_utils.py\", line 65, in error_handler\n      return fn(*args, **kwargs)\n    File \"/home/halim/anaconda3/envs/ViT-setup/lib/python3.10/site-packages/keras/engine/training.py\", line 561, in __call__\n      return super().__call__(*args, **kwargs)\n    File \"/home/halim/anaconda3/envs/ViT-setup/lib/python3.10/site-packages/keras/utils/traceback_utils.py\", line 65, in error_handler\n      return fn(*args, **kwargs)\n    File \"/home/halim/anaconda3/envs/ViT-setup/lib/python3.10/site-packages/keras/engine/base_layer.py\", line 1132, in __call__\n      outputs = call_fn(inputs, *args, **kwargs)\n    File \"/home/halim/anaconda3/envs/ViT-setup/lib/python3.10/site-packages/keras/utils/traceback_utils.py\", line 96, in error_handler\n      return fn(*args, **kwargs)\n    File \"/home/halim/anaconda3/envs/ViT-setup/lib/python3.10/site-packages/keras/engine/functional.py\", line 511, in call\n      return self._run_internal_graph(inputs, training=training, mask=mask)\n    File \"/home/halim/anaconda3/envs/ViT-setup/lib/python3.10/site-packages/keras/engine/functional.py\", line 668, in _run_internal_graph\n      outputs = node.layer(*args, **kwargs)\n    File \"/home/halim/anaconda3/envs/ViT-setup/lib/python3.10/site-packages/keras/utils/traceback_utils.py\", line 65, in error_handler\n      return fn(*args, **kwargs)\n    File \"/home/halim/anaconda3/envs/ViT-setup/lib/python3.10/site-packages/keras/engine/base_layer.py\", line 1132, in __call__\n      outputs = call_fn(inputs, *args, **kwargs)\n    File \"/home/halim/anaconda3/envs/ViT-setup/lib/python3.10/site-packages/keras/utils/traceback_utils.py\", line 96, in error_handler\n      return fn(*args, **kwargs)\n    File \"/home/halim/anaconda3/envs/ViT-setup/lib/python3.10/site-packages/transformers/modeling_tf_utils.py\", line 505, in run_call_with_unpacked_inputs\n      for k, v in kwargs.items():\n    File \"/home/halim/anaconda3/envs/ViT-setup/lib/python3.10/site-packages/transformers/models/vit/modeling_tf_vit.py\", line 519, in call\n      encoder_outputs = self.encoder(\n    File \"/home/halim/anaconda3/envs/ViT-setup/lib/python3.10/site-packages/keras/utils/traceback_utils.py\", line 65, in error_handler\n      return fn(*args, **kwargs)\n    File \"/home/halim/anaconda3/envs/ViT-setup/lib/python3.10/site-packages/keras/engine/base_layer.py\", line 1132, in __call__\n      outputs = call_fn(inputs, *args, **kwargs)\n    File \"/home/halim/anaconda3/envs/ViT-setup/lib/python3.10/site-packages/keras/utils/traceback_utils.py\", line 96, in error_handler\n      return fn(*args, **kwargs)\n    File \"/home/halim/anaconda3/envs/ViT-setup/lib/python3.10/site-packages/transformers/models/vit/modeling_tf_vit.py\", line 437, in call\n      for i, layer_module in enumerate(self.layer):\n    File \"/home/halim/anaconda3/envs/ViT-setup/lib/python3.10/site-packages/transformers/models/vit/modeling_tf_vit.py\", line 441, in call\n      layer_outputs = layer_module(\n    File \"/home/halim/anaconda3/envs/ViT-setup/lib/python3.10/site-packages/keras/utils/traceback_utils.py\", line 65, in error_handler\n      return fn(*args, **kwargs)\n    File \"/home/halim/anaconda3/envs/ViT-setup/lib/python3.10/site-packages/keras/engine/base_layer.py\", line 1132, in __call__\n      outputs = call_fn(inputs, *args, **kwargs)\n    File \"/home/halim/anaconda3/envs/ViT-setup/lib/python3.10/site-packages/keras/utils/traceback_utils.py\", line 96, in error_handler\n      return fn(*args, **kwargs)\n    File \"/home/halim/anaconda3/envs/ViT-setup/lib/python3.10/site-packages/transformers/models/vit/modeling_tf_vit.py\", line 408, in call\n      intermediate_output = self.intermediate(hidden_states=layer_output)\n    File \"/home/halim/anaconda3/envs/ViT-setup/lib/python3.10/site-packages/keras/utils/traceback_utils.py\", line 65, in error_handler\n      return fn(*args, **kwargs)\n    File \"/home/halim/anaconda3/envs/ViT-setup/lib/python3.10/site-packages/keras/engine/base_layer.py\", line 1132, in __call__\n      outputs = call_fn(inputs, *args, **kwargs)\n    File \"/home/halim/anaconda3/envs/ViT-setup/lib/python3.10/site-packages/keras/utils/traceback_utils.py\", line 96, in error_handler\n      return fn(*args, **kwargs)\n    File \"/home/halim/anaconda3/envs/ViT-setup/lib/python3.10/site-packages/transformers/models/vit/modeling_tf_vit.py\", line 347, in call\n      hidden_states = self.intermediate_act_fn(hidden_states)\n    File \"/home/halim/anaconda3/envs/ViT-setup/lib/python3.10/site-packages/keras/activations.py\", line 359, in gelu\n      return tf.nn.gelu(x, approximate)\nNode: 'siamese_network/vit/encoder/layer_._5/intermediate/Gelu_1/Erf'\nfailed to allocate memory\n\t [[{{node siamese_network/vit/encoder/layer_._5/intermediate/Gelu_1/Erf}}]]\nHint: If you want to see a list of allocated tensors when OOM happens, add report_tensor_allocations_upon_oom to RunOptions for current allocation info. This isn't available when running in Eager mode.\n [Op:__inference_train_function_55001]"
     ]
    }
   ],
   "source": [
    "# Fit the model\n",
    "# siamese_net = keras.models.load_model('checkpoints', custom_objects={ 'contrastive_loss': loss(1) })\n",
    "\n",
    "batch_size=32\n",
    "epochs=500\n",
    "history = siamese_network.fit(\n",
    "    train_generator,\n",
    "    validation_data=val_generator,\n",
    "    callbacks=callbacks_list,\n",
    "    epochs=epochs,\n",
    ")\n",
    "# history = siamese_net.fit(\n",
    "#     [x_train_1, x_train_2],\n",
    "#     y_train,\n",
    "#     validation_data=([x_val_1, x_val_2], y_val),\n",
    "#     batch_size=batch_size,\n",
    "#     callbacks=callbacks_list,\n",
    "#     epochs=epochs,\n",
    "#     # sample_weight=sample_weight,\n",
    "# )\n",
    "\n",
    "print(max(history.history[\"val_accuracy\"]))"
   ]
  },
  {
   "cell_type": "code",
   "execution_count": null,
   "metadata": {},
   "outputs": [],
   "source": []
  }
 ],
 "metadata": {
  "kernelspec": {
   "display_name": "ViT-setup",
   "language": "python",
   "name": "python3"
  },
  "language_info": {
   "codemirror_mode": {
    "name": "ipython",
    "version": 3
   },
   "file_extension": ".py",
   "mimetype": "text/x-python",
   "name": "python",
   "nbconvert_exporter": "python",
   "pygments_lexer": "ipython3",
   "version": "3.10.9"
  },
  "orig_nbformat": 4,
  "vscode": {
   "interpreter": {
    "hash": "d789d158354eadcf0eda52a6f4ad554f604453f498999fa62f33dfc007e2e6d7"
   }
  }
 },
 "nbformat": 4,
 "nbformat_minor": 2
}
