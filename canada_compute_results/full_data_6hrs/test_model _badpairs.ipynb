{
 "cells": [
  {
   "cell_type": "code",
   "execution_count": 1,
   "metadata": {},
   "outputs": [
    {
     "name": "stderr",
     "output_type": "stream",
     "text": [
      "2023-03-08 19:58:27.797946: I tensorflow/core/platform/cpu_feature_guard.cc:193] This TensorFlow binary is optimized with oneAPI Deep Neural Network Library (oneDNN) to use the following CPU instructions in performance-critical operations:  AVX2 FMA\n",
      "To enable them in other operations, rebuild TensorFlow with the appropriate compiler flags.\n"
     ]
    }
   ],
   "source": [
    "import os\n",
    "import modules.util as util\n",
    "import math\n",
    "import numpy as np\n",
    "import modules.datagenerator as dtgen\n",
    "import modules.network as network\n",
    "import modules.loss as loss\n",
    "import tensorflow as tf\n",
    "from keras.callbacks import ModelCheckpoint\n",
    "from keras.callbacks import LearningRateScheduler\n",
    "from tensorflow import keras"
   ]
  },
  {
   "cell_type": "code",
   "execution_count": 2,
   "metadata": {},
   "outputs": [],
   "source": [
    "home=os.path.abspath(os.getcwd())\n",
    "data_path=os.path.join(home, 'data_testset')\n",
    "\n",
    "#global data\n",
    "pairs=[]\n",
    "classes=[]\n",
    "\n",
    "for file in os.listdir(data_path):\n",
    "    classes.append(file)"
   ]
  },
  {
   "cell_type": "code",
   "execution_count": 3,
   "metadata": {},
   "outputs": [],
   "source": [
    "util.make_pairs(data_path, pairs, classes)\n",
    "\n",
    "# partition = {'train': np.arange(math.floor(len(pairs)*.6)),\n",
    "#              'validation': np.arange(math.floor(len(pairs)*.6),math.floor(len(pairs)*.8)),\n",
    "#              'test': np.arange(math.floor(len(pairs)*.8), math.floor(len(pairs)))}\n",
    "\n",
    "partition = {'test': np.arange(math.floor(len(pairs)))}\n",
    "\n",
    "# Generators\n",
    "test_generator = dtgen.DataGenerator(partition['test'], pairs, batch_size=1)"
   ]
  },
  {
   "cell_type": "code",
   "execution_count": 4,
   "metadata": {},
   "outputs": [
    {
     "name": "stdout",
     "output_type": "stream",
     "text": [
      "Number of Test Pairs: 1320\n"
     ]
    }
   ],
   "source": [
    "print(f\"Number of Test Pairs: {len(partition['test'])}\")"
   ]
  },
  {
   "cell_type": "code",
   "execution_count": 5,
   "metadata": {},
   "outputs": [
    {
     "name": "stderr",
     "output_type": "stream",
     "text": [
      "All model checkpoint layers were used when initializing TFViTModel.\n",
      "\n",
      "All the layers of TFViTModel were initialized from the model checkpoint at google/vit-base-patch16-224-in21k.\n",
      "If your task is similar to the task the model of the checkpoint was trained on, you can already use TFViTModel for predictions without further training.\n"
     ]
    }
   ],
   "source": [
    "siamese_obj = network.SiameseNetwork()\n",
    "siamese_network = siamese_obj.make_siamese_net()"
   ]
  },
  {
   "cell_type": "code",
   "execution_count": 6,
   "metadata": {},
   "outputs": [],
   "source": [
    "siamese_network.compile(loss= loss.loss(1), optimizer=tf.keras.optimizers.Adam(learning_rate=0.5e-3), # 0.5e-6\n",
    "                    metrics=[\"accuracy\"])"
   ]
  },
  {
   "cell_type": "code",
   "execution_count": 7,
   "metadata": {},
   "outputs": [
    {
     "name": "stdout",
     "output_type": "stream",
     "text": [
      "1320/1320 - 76s - loss: 0.2567 - accuracy: 0.5069 - 76s/epoch - 58ms/step\n",
      "Unrestored model, accuracy: 50.69%\n"
     ]
    }
   ],
   "source": [
    "# Re-evaluate the model\n",
    "loss, acc = siamese_network.evaluate(test_generator, verbose=2)\n",
    "print(\"Unrestored model, accuracy: {:5.2f}%\".format(100 * acc))\n"
   ]
  },
  {
   "cell_type": "code",
   "execution_count": 8,
   "metadata": {},
   "outputs": [
    {
     "name": "stderr",
     "output_type": "stream",
     "text": [
      "2023-03-08 20:00:21.584216: W tensorflow/core/util/tensor_slice_reader.cc:96] Could not open /home/halim/Documents/ECE613/GitHub/Face_id_meta/canada_compute_results/full_data_6hrs/checkpoints: FAILED_PRECONDITION: /home/halim/Documents/ECE613/GitHub/Face_id_meta/canada_compute_results/full_data_6hrs/checkpoints; Is a directory: perhaps your file is in a different file format and you need to use a different restore operator?\n"
     ]
    },
    {
     "name": "stdout",
     "output_type": "stream",
     "text": [
      "1320/1320 - 65s - loss: 0.1957 - accuracy: 0.7029 - 65s/epoch - 50ms/step\n",
      "Restored model, accuracy: 70.29%\n"
     ]
    }
   ],
   "source": [
    "checkpoint_path = os.path.join(home, 'checkpoints')\n",
    "\n",
    "# Loads the weights\n",
    "siamese_network.load_weights(checkpoint_path)\n",
    "\n",
    "# Re-evaluate the model\n",
    "loss, acc = siamese_network.evaluate(test_generator, verbose=2)\n",
    "print(\"Restored model, accuracy: {:5.2f}%\".format(100 * acc))"
   ]
  },
  {
   "cell_type": "code",
   "execution_count": 36,
   "metadata": {},
   "outputs": [
    {
     "name": "stdout",
     "output_type": "stream",
     "text": [
      "Model: \"siamese_network\"\n",
      "__________________________________________________________________________________________________\n",
      " Layer (type)                   Output Shape         Param #     Connected to                     \n",
      "==================================================================================================\n",
      " pixel_values1 (InputLayer)     [(None, 224, 224, 3  0           []                               \n",
      "                                )]                                                                \n",
      "                                                                                                  \n",
      " pixel_values2 (InputLayer)     [(None, 224, 224, 3  0           []                               \n",
      "                                )]                                                                \n",
      "                                                                                                  \n",
      " permute (Permute)              (None, 3, 224, 224)  0           ['pixel_values1[0][0]']          \n",
      "                                                                                                  \n",
      " permute_1 (Permute)            (None, 3, 224, 224)  0           ['pixel_values2[0][0]']          \n",
      "                                                                                                  \n",
      " vit (TFViTMainLayer)           TFBaseModelOutputWi  86389248    ['permute[0][0]',                \n",
      "                                thPooling(last_hidd               'permute_1[0][0]']              \n",
      "                                en_state=(None, 197                                               \n",
      "                                , 768),                                                           \n",
      "                                 pooler_output=(Non                                               \n",
      "                                e, 768),                                                          \n",
      "                                 hidden_states=None                                               \n",
      "                                , attentions=None)                                                \n",
      "                                                                                                  \n",
      " l1_dist (L1Dist)               (None, 197, 768)     0           ['vit[0][0]',                    \n",
      "                                                                  'vit[1][0]']                    \n",
      "                                                                                                  \n",
      " outputs (Dense)                (None, 197, 1)       769         ['l1_dist[0][0]']                \n",
      "                                                                                                  \n",
      "==================================================================================================\n",
      "Total params: 86,390,017\n",
      "Trainable params: 86,390,017\n",
      "Non-trainable params: 0\n",
      "__________________________________________________________________________________________________\n"
     ]
    }
   ],
   "source": [
    "siamese_network.summary()"
   ]
  },
  {
   "cell_type": "code",
   "execution_count": 38,
   "metadata": {},
   "outputs": [
    {
     "data": {
      "text/plain": [
       "(None, 197, 1)"
      ]
     },
     "execution_count": 38,
     "metadata": {},
     "output_type": "execute_result"
    },
    {
     "ename": "",
     "evalue": "",
     "output_type": "error",
     "traceback": [
      "\u001b[1;31mThe Kernel crashed while executing code in the the current cell or a previous cell. Please review the code in the cell(s) to identify a possible cause of the failure. Click <a href='https://aka.ms/vscodeJupyterKernelCrash'>here</a> for more info. View Jupyter <a href='command:jupyter.viewOutput'>log</a> for further details."
     ]
    }
   ],
   "source": [
    "siamese_network.output_shape"
   ]
  },
  {
   "cell_type": "code",
   "execution_count": 9,
   "metadata": {},
   "outputs": [
    {
     "name": "stdout",
     "output_type": "stream",
     "text": [
      "1320/1320 [==============================] - 73s 51ms/step\n"
     ]
    }
   ],
   "source": [
    "test_ls=siamese_network.predict(test_generator)"
   ]
  },
  {
   "cell_type": "code",
   "execution_count": null,
   "metadata": {},
   "outputs": [],
   "source": []
  },
  {
   "cell_type": "code",
   "execution_count": 10,
   "metadata": {},
   "outputs": [
    {
     "data": {
      "text/plain": [
       "(1320, 197, 1)"
      ]
     },
     "execution_count": 10,
     "metadata": {},
     "output_type": "execute_result"
    }
   ],
   "source": [
    "test_ls.shape\n"
   ]
  },
  {
   "cell_type": "code",
   "execution_count": 12,
   "metadata": {},
   "outputs": [
    {
     "data": {
      "text/plain": [
       "(197, 1)"
      ]
     },
     "execution_count": 12,
     "metadata": {},
     "output_type": "execute_result"
    }
   ],
   "source": [
    "test_ls[0].shape"
   ]
  },
  {
   "cell_type": "code",
   "execution_count": 37,
   "metadata": {},
   "outputs": [
    {
     "data": {
      "text/plain": [
       "array([0.07245867], dtype=float32)"
      ]
     },
     "execution_count": 37,
     "metadata": {},
     "output_type": "execute_result"
    }
   ],
   "source": [
    "test_ls[0][0]"
   ]
  },
  {
   "cell_type": "code",
   "execution_count": 13,
   "metadata": {},
   "outputs": [
    {
     "data": {
      "text/plain": [
       "array([[0.07245867],\n",
       "       [0.15490232],\n",
       "       [0.16010123],\n",
       "       [0.16305007],\n",
       "       [0.14026809],\n",
       "       [0.13992535],\n",
       "       [0.14557225],\n",
       "       [0.13010198],\n",
       "       [0.1666094 ],\n",
       "       [0.14372355],\n",
       "       [0.13941506],\n",
       "       [0.13695613],\n",
       "       [0.1344357 ],\n",
       "       [0.1565521 ],\n",
       "       [0.15733507],\n",
       "       [0.13463421],\n",
       "       [0.12083973],\n",
       "       [0.16401783],\n",
       "       [0.14322169],\n",
       "       [0.14614454],\n",
       "       [0.15116133],\n",
       "       [0.14298269],\n",
       "       [0.16900666],\n",
       "       [0.15653174],\n",
       "       [0.15090202],\n",
       "       [0.15311497],\n",
       "       [0.14450806],\n",
       "       [0.16431348],\n",
       "       [0.1484355 ],\n",
       "       [0.11601086],\n",
       "       [0.12294892],\n",
       "       [0.16484076],\n",
       "       [0.13738506],\n",
       "       [0.10561806],\n",
       "       [0.11932145],\n",
       "       [0.11798118],\n",
       "       [0.12567224],\n",
       "       [0.1570328 ],\n",
       "       [0.12782711],\n",
       "       [0.1408458 ],\n",
       "       [0.12994456],\n",
       "       [0.16359584],\n",
       "       [0.15251386],\n",
       "       [0.11085621],\n",
       "       [0.12536943],\n",
       "       [0.13644382],\n",
       "       [0.14879836],\n",
       "       [0.10480469],\n",
       "       [0.0896536 ],\n",
       "       [0.09076364],\n",
       "       [0.08946585],\n",
       "       [0.09512896],\n",
       "       [0.10101678],\n",
       "       [0.15609735],\n",
       "       [0.1369135 ],\n",
       "       [0.13172647],\n",
       "       [0.15507966],\n",
       "       [0.11328918],\n",
       "       [0.12014293],\n",
       "       [0.14864151],\n",
       "       [0.15007895],\n",
       "       [0.08484353],\n",
       "       [0.07800189],\n",
       "       [0.07533326],\n",
       "       [0.07712379],\n",
       "       [0.07730743],\n",
       "       [0.08254328],\n",
       "       [0.14182822],\n",
       "       [0.13953787],\n",
       "       [0.14211756],\n",
       "       [0.12693298],\n",
       "       [0.11503018],\n",
       "       [0.13633624],\n",
       "       [0.14891782],\n",
       "       [0.1459083 ],\n",
       "       [0.08333624],\n",
       "       [0.08583452],\n",
       "       [0.08458026],\n",
       "       [0.08722316],\n",
       "       [0.08539206],\n",
       "       [0.08229175],\n",
       "       [0.13997094],\n",
       "       [0.12926951],\n",
       "       [0.14658085],\n",
       "       [0.1153041 ],\n",
       "       [0.11717536],\n",
       "       [0.12425179],\n",
       "       [0.14218509],\n",
       "       [0.15317883],\n",
       "       [0.085732  ],\n",
       "       [0.08691208],\n",
       "       [0.08619332],\n",
       "       [0.09374665],\n",
       "       [0.08736451],\n",
       "       [0.07994414],\n",
       "       [0.13997425],\n",
       "       [0.15401441],\n",
       "       [0.13312112],\n",
       "       [0.12706393],\n",
       "       [0.11958333],\n",
       "       [0.12636758],\n",
       "       [0.15554054],\n",
       "       [0.14992605],\n",
       "       [0.08839374],\n",
       "       [0.07940368],\n",
       "       [0.08775882],\n",
       "       [0.09940469],\n",
       "       [0.08917738],\n",
       "       [0.08448538],\n",
       "       [0.15333408],\n",
       "       [0.15988643],\n",
       "       [0.1394441 ],\n",
       "       [0.13365954],\n",
       "       [0.11769877],\n",
       "       [0.12819794],\n",
       "       [0.16985215],\n",
       "       [0.15283194],\n",
       "       [0.09102964],\n",
       "       [0.08647028],\n",
       "       [0.09907326],\n",
       "       [0.09970453],\n",
       "       [0.098223  ],\n",
       "       [0.1011643 ],\n",
       "       [0.15485087],\n",
       "       [0.1523618 ],\n",
       "       [0.13947389],\n",
       "       [0.13064566],\n",
       "       [0.11854433],\n",
       "       [0.14179718],\n",
       "       [0.14555939],\n",
       "       [0.1604561 ],\n",
       "       [0.09038977],\n",
       "       [0.09439714],\n",
       "       [0.08823715],\n",
       "       [0.0955301 ],\n",
       "       [0.10281993],\n",
       "       [0.12393985],\n",
       "       [0.15918897],\n",
       "       [0.15565793],\n",
       "       [0.13757503],\n",
       "       [0.12648499],\n",
       "       [0.12813984],\n",
       "       [0.16027798],\n",
       "       [0.16485788],\n",
       "       [0.16438241],\n",
       "       [0.10970221],\n",
       "       [0.08804338],\n",
       "       [0.08199362],\n",
       "       [0.08834089],\n",
       "       [0.10011459],\n",
       "       [0.11937653],\n",
       "       [0.16003342],\n",
       "       [0.16248986],\n",
       "       [0.14540344],\n",
       "       [0.12042531],\n",
       "       [0.12868857],\n",
       "       [0.16355918],\n",
       "       [0.1654933 ],\n",
       "       [0.1650107 ],\n",
       "       [0.16756171],\n",
       "       [0.16040064],\n",
       "       [0.15457454],\n",
       "       [0.16064726],\n",
       "       [0.156959  ],\n",
       "       [0.15834236],\n",
       "       [0.15466343],\n",
       "       [0.16185729],\n",
       "       [0.13552684],\n",
       "       [0.12998727],\n",
       "       [0.12251649],\n",
       "       [0.15425202],\n",
       "       [0.12139576],\n",
       "       [0.16313829],\n",
       "       [0.1602599 ],\n",
       "       [0.1609685 ],\n",
       "       [0.15499501],\n",
       "       [0.16145273],\n",
       "       [0.15892202],\n",
       "       [0.15769964],\n",
       "       [0.15778813],\n",
       "       [0.14711031],\n",
       "       [0.13019791],\n",
       "       [0.1372959 ],\n",
       "       [0.12507454],\n",
       "       [0.15389594],\n",
       "       [0.16973723],\n",
       "       [0.16174665],\n",
       "       [0.1523137 ],\n",
       "       [0.15290302],\n",
       "       [0.1506185 ],\n",
       "       [0.1580621 ],\n",
       "       [0.16551334],\n",
       "       [0.16587922],\n",
       "       [0.16076596],\n",
       "       [0.15452226],\n",
       "       [0.12400997],\n",
       "       [0.1298111 ]], dtype=float32)"
      ]
     },
     "execution_count": 13,
     "metadata": {},
     "output_type": "execute_result"
    }
   ],
   "source": [
    "test_ls[0]"
   ]
  },
  {
   "cell_type": "code",
   "execution_count": 11,
   "metadata": {},
   "outputs": [
    {
     "data": {
      "text/plain": [
       "array([[[0.07245867],\n",
       "        [0.15490232],\n",
       "        [0.16010123],\n",
       "        ...,\n",
       "        [0.15452226],\n",
       "        [0.12400997],\n",
       "        [0.1298111 ]],\n",
       "\n",
       "       [[0.32431805],\n",
       "        [0.31230256],\n",
       "        [0.30389175],\n",
       "        ...,\n",
       "        [0.25514022],\n",
       "        [0.29920828],\n",
       "        [0.3016249 ]],\n",
       "\n",
       "       [[0.9718195 ],\n",
       "        [0.98061484],\n",
       "        [0.9797039 ],\n",
       "        ...,\n",
       "        [0.9798803 ],\n",
       "        [0.97854596],\n",
       "        [0.9827193 ]],\n",
       "\n",
       "       ...,\n",
       "\n",
       "       [[0.3480976 ],\n",
       "        [0.28238043],\n",
       "        [0.29814732],\n",
       "        ...,\n",
       "        [0.31118485],\n",
       "        [0.26301304],\n",
       "        [0.36756113]],\n",
       "\n",
       "       [[0.9946181 ],\n",
       "        [0.99776304],\n",
       "        [0.99770397],\n",
       "        ...,\n",
       "        [0.99783295],\n",
       "        [0.997615  ],\n",
       "        [0.99785256]],\n",
       "\n",
       "       [[0.3519332 ],\n",
       "        [0.35814458],\n",
       "        [0.4056054 ],\n",
       "        ...,\n",
       "        [0.38512814],\n",
       "        [0.4033972 ],\n",
       "        [0.3827549 ]]], dtype=float32)"
      ]
     },
     "execution_count": 11,
     "metadata": {},
     "output_type": "execute_result"
    }
   ],
   "source": [
    "test_ls"
   ]
  },
  {
   "cell_type": "code",
   "execution_count": 62,
   "metadata": {},
   "outputs": [
    {
     "data": {
      "text/plain": [
       "1304"
      ]
     },
     "execution_count": 62,
     "metadata": {},
     "output_type": "execute_result"
    }
   ],
   "source": [
    "len(test_generator)"
   ]
  },
  {
   "cell_type": "code",
   "execution_count": 16,
   "metadata": {},
   "outputs": [
    {
     "name": "stdout",
     "output_type": "stream",
     "text": [
      "1320\n"
     ]
    }
   ],
   "source": [
    "label=[]\n",
    "for i in range(0,len(test_ls)):\n",
    "    label+=[test_generator.labels[i][2]]\n",
    "print(len(label))"
   ]
  },
  {
   "cell_type": "code",
   "execution_count": 14,
   "metadata": {},
   "outputs": [],
   "source": [
    "labels = []\n",
    "for i in test_generator.labels:\n",
    "    # print(i[2])\n",
    "    labels.append(i[2])\n",
    "\n",
    "\n"
   ]
  },
  {
   "cell_type": "code",
   "execution_count": 27,
   "metadata": {},
   "outputs": [
    {
     "data": {
      "text/plain": [
       "['/home/halim/Documents/ECE613/GitHub/Face_id_meta/canada_compute_results/full_data_6hrs/data_testset/W-048/W-048-12.bmp',\n",
       " '/home/halim/Documents/ECE613/GitHub/Face_id_meta/canada_compute_results/full_data_6hrs/data_testset/W-044/W-044-13.bmp',\n",
       " 1,\n",
       " 224,\n",
       " 70]"
      ]
     },
     "execution_count": 27,
     "metadata": {},
     "output_type": "execute_result"
    }
   ],
   "source": [
    "test_generator.labels[3]"
   ]
  },
  {
   "cell_type": "code",
   "execution_count": 35,
   "metadata": {},
   "outputs": [
    {
     "data": {
      "text/plain": [
       "1320"
      ]
     },
     "execution_count": 35,
     "metadata": {},
     "output_type": "execute_result"
    }
   ],
   "source": [
    "len(test_generator)"
   ]
  },
  {
   "cell_type": "code",
   "execution_count": 15,
   "metadata": {},
   "outputs": [
    {
     "name": "stdout",
     "output_type": "stream",
     "text": [
      "1320\n"
     ]
    }
   ],
   "source": [
    "print(len(labels))"
   ]
  },
  {
   "cell_type": "code",
   "execution_count": 19,
   "metadata": {},
   "outputs": [
    {
     "data": {
      "text/plain": [
       "0"
      ]
     },
     "execution_count": 19,
     "metadata": {},
     "output_type": "execute_result"
    }
   ],
   "source": [
    "labels[0]"
   ]
  },
  {
   "cell_type": "code",
   "execution_count": 31,
   "metadata": {},
   "outputs": [
    {
     "ename": "ValueError",
     "evalue": "in user code:\n\n    File \"/home/halim/anaconda3/envs/ViT-setup/lib/python3.10/site-packages/keras/engine/training.py\", line 2137, in predict_function  *\n        return step_function(self, iterator)\n    File \"/home/halim/anaconda3/envs/ViT-setup/lib/python3.10/site-packages/keras/engine/training.py\", line 2123, in step_function  **\n        outputs = model.distribute_strategy.run(run_step, args=(data,))\n    File \"/home/halim/anaconda3/envs/ViT-setup/lib/python3.10/site-packages/keras/engine/training.py\", line 2111, in run_step  **\n        outputs = model.predict_step(data)\n    File \"/home/halim/anaconda3/envs/ViT-setup/lib/python3.10/site-packages/keras/engine/training.py\", line 2079, in predict_step\n        return self(x, training=False)\n    File \"/home/halim/anaconda3/envs/ViT-setup/lib/python3.10/site-packages/keras/utils/traceback_utils.py\", line 70, in error_handler\n        raise e.with_traceback(filtered_tb) from None\n    File \"/home/halim/anaconda3/envs/ViT-setup/lib/python3.10/site-packages/keras/engine/input_spec.py\", line 216, in assert_input_compatibility\n        raise ValueError(\n\n    ValueError: Layer \"siamese_network\" expects 2 input(s), but it received 3 input tensors. Inputs received: [<tf.Tensor 'IteratorGetNext:0' shape=(None, 224, 224, 3) dtype=float32>, <tf.Tensor 'IteratorGetNext:1' shape=(None, 224, 224, 3) dtype=float32>, <tf.Tensor 'IteratorGetNext:2' shape=(None, 1) dtype=float32>]\n",
     "output_type": "error",
     "traceback": [
      "\u001b[0;31m---------------------------------------------------------------------------\u001b[0m",
      "\u001b[0;31mValueError\u001b[0m                                Traceback (most recent call last)",
      "Cell \u001b[0;32mIn[31], line 1\u001b[0m\n\u001b[0;32m----> 1\u001b[0m test_one\u001b[39m=\u001b[39msiamese_network\u001b[39m.\u001b[39;49mpredict([test_generator[\u001b[39m3\u001b[39;49m]])\n",
      "File \u001b[0;32m~/anaconda3/envs/ViT-setup/lib/python3.10/site-packages/keras/utils/traceback_utils.py:70\u001b[0m, in \u001b[0;36mfilter_traceback.<locals>.error_handler\u001b[0;34m(*args, **kwargs)\u001b[0m\n\u001b[1;32m     67\u001b[0m     filtered_tb \u001b[39m=\u001b[39m _process_traceback_frames(e\u001b[39m.\u001b[39m__traceback__)\n\u001b[1;32m     68\u001b[0m     \u001b[39m# To get the full stack trace, call:\u001b[39;00m\n\u001b[1;32m     69\u001b[0m     \u001b[39m# `tf.debugging.disable_traceback_filtering()`\u001b[39;00m\n\u001b[0;32m---> 70\u001b[0m     \u001b[39mraise\u001b[39;00m e\u001b[39m.\u001b[39mwith_traceback(filtered_tb) \u001b[39mfrom\u001b[39;00m \u001b[39mNone\u001b[39m\n\u001b[1;32m     71\u001b[0m \u001b[39mfinally\u001b[39;00m:\n\u001b[1;32m     72\u001b[0m     \u001b[39mdel\u001b[39;00m filtered_tb\n",
      "File \u001b[0;32m/tmp/__autograph_generated_filew3zp0t5w.py:15\u001b[0m, in \u001b[0;36mouter_factory.<locals>.inner_factory.<locals>.tf__predict_function\u001b[0;34m(iterator)\u001b[0m\n\u001b[1;32m     13\u001b[0m \u001b[39mtry\u001b[39;00m:\n\u001b[1;32m     14\u001b[0m     do_return \u001b[39m=\u001b[39m \u001b[39mTrue\u001b[39;00m\n\u001b[0;32m---> 15\u001b[0m     retval_ \u001b[39m=\u001b[39m ag__\u001b[39m.\u001b[39mconverted_call(ag__\u001b[39m.\u001b[39mld(step_function), (ag__\u001b[39m.\u001b[39mld(\u001b[39mself\u001b[39m), ag__\u001b[39m.\u001b[39mld(iterator)), \u001b[39mNone\u001b[39;00m, fscope)\n\u001b[1;32m     16\u001b[0m \u001b[39mexcept\u001b[39;00m:\n\u001b[1;32m     17\u001b[0m     do_return \u001b[39m=\u001b[39m \u001b[39mFalse\u001b[39;00m\n",
      "\u001b[0;31mValueError\u001b[0m: in user code:\n\n    File \"/home/halim/anaconda3/envs/ViT-setup/lib/python3.10/site-packages/keras/engine/training.py\", line 2137, in predict_function  *\n        return step_function(self, iterator)\n    File \"/home/halim/anaconda3/envs/ViT-setup/lib/python3.10/site-packages/keras/engine/training.py\", line 2123, in step_function  **\n        outputs = model.distribute_strategy.run(run_step, args=(data,))\n    File \"/home/halim/anaconda3/envs/ViT-setup/lib/python3.10/site-packages/keras/engine/training.py\", line 2111, in run_step  **\n        outputs = model.predict_step(data)\n    File \"/home/halim/anaconda3/envs/ViT-setup/lib/python3.10/site-packages/keras/engine/training.py\", line 2079, in predict_step\n        return self(x, training=False)\n    File \"/home/halim/anaconda3/envs/ViT-setup/lib/python3.10/site-packages/keras/utils/traceback_utils.py\", line 70, in error_handler\n        raise e.with_traceback(filtered_tb) from None\n    File \"/home/halim/anaconda3/envs/ViT-setup/lib/python3.10/site-packages/keras/engine/input_spec.py\", line 216, in assert_input_compatibility\n        raise ValueError(\n\n    ValueError: Layer \"siamese_network\" expects 2 input(s), but it received 3 input tensors. Inputs received: [<tf.Tensor 'IteratorGetNext:0' shape=(None, 224, 224, 3) dtype=float32>, <tf.Tensor 'IteratorGetNext:1' shape=(None, 224, 224, 3) dtype=float32>, <tf.Tensor 'IteratorGetNext:2' shape=(None, 1) dtype=float32>]\n"
     ]
    }
   ],
   "source": [
    "test_one=siamese_network.predict([test_generator[3]])"
   ]
  },
  {
   "cell_type": "code",
   "execution_count": 66,
   "metadata": {},
   "outputs": [
    {
     "data": {
      "text/plain": [
       "array([False])"
      ]
     },
     "execution_count": 66,
     "metadata": {},
     "output_type": "execute_result"
    }
   ],
   "source": [
    "pred_lbl=[]\n",
    "pred_lbl = test_ls>=0.5 \n",
    "pred_lbl[0][0]"
   ]
  },
  {
   "cell_type": "code",
   "execution_count": 67,
   "metadata": {},
   "outputs": [],
   "source": [
    "wrong_ls=[]\n",
    "wrong_ls = pred_lbl!=label\n"
   ]
  }
 ],
 "metadata": {
  "kernelspec": {
   "display_name": "ViT-setup",
   "language": "python",
   "name": "python3"
  },
  "language_info": {
   "codemirror_mode": {
    "name": "ipython",
    "version": 3
   },
   "file_extension": ".py",
   "mimetype": "text/x-python",
   "name": "python",
   "nbconvert_exporter": "python",
   "pygments_lexer": "ipython3",
   "version": "3.10.9"
  },
  "orig_nbformat": 4,
  "vscode": {
   "interpreter": {
    "hash": "d789d158354eadcf0eda52a6f4ad554f604453f498999fa62f33dfc007e2e6d7"
   }
  }
 },
 "nbformat": 4,
 "nbformat_minor": 2
}
