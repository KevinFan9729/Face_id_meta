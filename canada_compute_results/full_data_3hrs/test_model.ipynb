{
 "cells": [
  {
   "cell_type": "code",
   "execution_count": 1,
   "metadata": {},
   "outputs": [
    {
     "name": "stderr",
     "output_type": "stream",
     "text": [
      "2023-03-03 20:10:51.904803: I tensorflow/core/platform/cpu_feature_guard.cc:193] This TensorFlow binary is optimized with oneAPI Deep Neural Network Library (oneDNN) to use the following CPU instructions in performance-critical operations:  AVX2 FMA\n",
      "To enable them in other operations, rebuild TensorFlow with the appropriate compiler flags.\n"
     ]
    }
   ],
   "source": [
    "import os\n",
    "import modules.util as util\n",
    "import math\n",
    "import numpy as np\n",
    "import modules.datagenerator as dtgen\n",
    "import modules.network as network\n",
    "import modules.loss as loss\n",
    "import tensorflow as tf\n",
    "from keras.callbacks import ModelCheckpoint\n",
    "from keras.callbacks import LearningRateScheduler\n",
    "from tensorflow import keras"
   ]
  },
  {
   "cell_type": "code",
   "execution_count": 2,
   "metadata": {},
   "outputs": [],
   "source": [
    "home=os.path.abspath(os.getcwd())\n",
    "data_path=os.path.join(home, 'data_testset')\n",
    "\n",
    "#global data\n",
    "pairs=[]\n",
    "classes=[]\n",
    "\n",
    "for file in os.listdir(data_path):\n",
    "    classes.append(file)"
   ]
  },
  {
   "cell_type": "code",
   "execution_count": 3,
   "metadata": {},
   "outputs": [],
   "source": [
    "util.make_pairs(data_path, pairs, classes)\n",
    "\n",
    "# partition = {'train': np.arange(math.floor(len(pairs)*.6)),\n",
    "#              'validation': np.arange(math.floor(len(pairs)*.6),math.floor(len(pairs)*.8)),\n",
    "#              'test': np.arange(math.floor(len(pairs)*.8), math.floor(len(pairs)))}\n",
    "\n",
    "partition = {'test': np.arange(math.floor(len(pairs)))}\n",
    "\n",
    "# Generators\n",
    "test_generator = dtgen.DataGenerator(partition['test'], pairs, batch_size=16)"
   ]
  },
  {
   "cell_type": "code",
   "execution_count": 4,
   "metadata": {},
   "outputs": [
    {
     "name": "stdout",
     "output_type": "stream",
     "text": [
      "Number of Test Pairs: 1336\n"
     ]
    }
   ],
   "source": [
    "print(f\"Number of Test Pairs: {len(partition['test'])}\")"
   ]
  },
  {
   "cell_type": "code",
   "execution_count": 5,
   "metadata": {},
   "outputs": [
    {
     "name": "stderr",
     "output_type": "stream",
     "text": [
      "All model checkpoint layers were used when initializing TFViTModel.\n",
      "\n",
      "All the layers of TFViTModel were initialized from the model checkpoint at google/vit-base-patch16-224-in21k.\n",
      "If your task is similar to the task the model of the checkpoint was trained on, you can already use TFViTModel for predictions without further training.\n"
     ]
    }
   ],
   "source": [
    "siamese_obj = network.SiameseNetwork()\n",
    "siamese_network = siamese_obj.make_siamese_net()"
   ]
  },
  {
   "cell_type": "code",
   "execution_count": 6,
   "metadata": {},
   "outputs": [],
   "source": [
    "siamese_network.compile(loss= loss.loss(1), optimizer=tf.keras.optimizers.Adam(learning_rate=0.5e-3), # 0.5e-6\n",
    "                    metrics=[\"accuracy\"])"
   ]
  },
  {
   "cell_type": "code",
   "execution_count": 7,
   "metadata": {},
   "outputs": [
    {
     "name": "stdout",
     "output_type": "stream",
     "text": [
      "83/83 - 49s - loss: 0.2510 - accuracy: 0.5144 - 49s/epoch - 593ms/step\n",
      "Unrestored model, accuracy: 51.44%\n"
     ]
    }
   ],
   "source": [
    "# Re-evaluate the model\n",
    "loss, acc = siamese_network.evaluate(test_generator, verbose=2)\n",
    "print(\"Unrestored model, accuracy: {:5.2f}%\".format(100 * acc))\n"
   ]
  },
  {
   "cell_type": "code",
   "execution_count": 8,
   "metadata": {},
   "outputs": [
    {
     "name": "stderr",
     "output_type": "stream",
     "text": [
      "2023-03-03 20:12:34.203595: W tensorflow/core/util/tensor_slice_reader.cc:96] Could not open /home/halim/Documents/ECE613/GitHub/Face_id_meta/canada_compute_results/full_data_3hr/checkpoints: FAILED_PRECONDITION: /home/halim/Documents/ECE613/GitHub/Face_id_meta/canada_compute_results/full_data_3hr/checkpoints; Is a directory: perhaps your file is in a different file format and you need to use a different restore operator?\n"
     ]
    },
    {
     "name": "stdout",
     "output_type": "stream",
     "text": [
      "83/83 - 40s - loss: 0.2033 - accuracy: 0.6979 - 40s/epoch - 479ms/step\n",
      "Restored model, accuracy: 69.79%\n"
     ]
    }
   ],
   "source": [
    "checkpoint_path = os.path.join(home, 'checkpoints')\n",
    "\n",
    "# Loads the weights\n",
    "siamese_network.load_weights(checkpoint_path)\n",
    "\n",
    "# Re-evaluate the model\n",
    "loss, acc = siamese_network.evaluate(test_generator, verbose=2)\n",
    "print(\"Restored model, accuracy: {:5.2f}%\".format(100 * acc))"
   ]
  },
  {
   "cell_type": "code",
   "execution_count": null,
   "metadata": {},
   "outputs": [],
   "source": []
  }
 ],
 "metadata": {
  "kernelspec": {
   "display_name": "ViT-setup",
   "language": "python",
   "name": "python3"
  },
  "language_info": {
   "codemirror_mode": {
    "name": "ipython",
    "version": 3
   },
   "file_extension": ".py",
   "mimetype": "text/x-python",
   "name": "python",
   "nbconvert_exporter": "python",
   "pygments_lexer": "ipython3",
   "version": "3.10.9"
  },
  "orig_nbformat": 4,
  "vscode": {
   "interpreter": {
    "hash": "d789d158354eadcf0eda52a6f4ad554f604453f498999fa62f33dfc007e2e6d7"
   }
  }
 },
 "nbformat": 4,
 "nbformat_minor": 2
}
