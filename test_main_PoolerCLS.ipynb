{
 "cells": [
  {
   "cell_type": "code",
   "execution_count": 1,
   "metadata": {},
   "outputs": [
    {
     "name": "stderr",
     "output_type": "stream",
     "text": [
      "2023-03-09 00:57:09.512047: I tensorflow/core/platform/cpu_feature_guard.cc:193] This TensorFlow binary is optimized with oneAPI Deep Neural Network Library (oneDNN) to use the following CPU instructions in performance-critical operations:  AVX2 FMA\n",
      "To enable them in other operations, rebuild TensorFlow with the appropriate compiler flags.\n"
     ]
    }
   ],
   "source": [
    "import os\n",
    "import modules.util as util\n",
    "import math\n",
    "import numpy as np\n",
    "import modules.datagenerator as dtgen\n",
    "import modules.network_PoolerCLS as network\n",
    "import modules.loss as loss\n",
    "import tensorflow as tf\n",
    "from keras.callbacks import ModelCheckpoint\n",
    "from keras.callbacks import LearningRateScheduler\n",
    "from tensorflow import keras"
   ]
  },
  {
   "cell_type": "code",
   "execution_count": 2,
   "metadata": {},
   "outputs": [],
   "source": [
    "home=os.path.abspath(os.getcwd())\n",
    "data_path=os.path.join(home, 'data_train_valset')\n",
    "\n",
    "#global data\n",
    "pairs=[]\n",
    "classes=[]\n",
    "\n",
    "for file in os.listdir(data_path):\n",
    "    classes.append(file)"
   ]
  },
  {
   "cell_type": "code",
   "execution_count": 3,
   "metadata": {},
   "outputs": [],
   "source": [
    "util.make_pairs(data_path, pairs, classes)\n",
    "\n",
    "# partition = {'train': np.arange(math.floor(len(pairs)*.6)),\n",
    "#              'validation': np.arange(math.floor(len(pairs)*.6),math.floor(len(pairs)*.8)),\n",
    "#              'test': np.arange(math.floor(len(pairs)*.8), math.floor(len(pairs)))}\n",
    "\n",
    "partition = {'train': np.arange(math.floor(len(pairs)*.75)),\n",
    "             'validation': np.arange(math.floor(len(pairs)*.75),math.floor(len(pairs)))}\n",
    "\n",
    "# Generators\n",
    "train_generator = dtgen.DataGenerator(partition['train'], pairs, batch_size=16)\n",
    "val_generator = dtgen.DataGenerator(partition['validation'], pairs, batch_size=16)"
   ]
  },
  {
   "cell_type": "code",
   "execution_count": 4,
   "metadata": {},
   "outputs": [
    {
     "data": {
      "text/plain": [
       "5146"
      ]
     },
     "execution_count": 4,
     "metadata": {},
     "output_type": "execute_result"
    }
   ],
   "source": [
    "len(pairs)"
   ]
  },
  {
   "cell_type": "code",
   "execution_count": 5,
   "metadata": {},
   "outputs": [
    {
     "data": {
      "text/plain": [
       "3859"
      ]
     },
     "execution_count": 5,
     "metadata": {},
     "output_type": "execute_result"
    }
   ],
   "source": [
    "len(partition[\"train\"])"
   ]
  },
  {
   "cell_type": "code",
   "execution_count": 6,
   "metadata": {},
   "outputs": [
    {
     "data": {
      "text/plain": [
       "1287"
      ]
     },
     "execution_count": 6,
     "metadata": {},
     "output_type": "execute_result"
    }
   ],
   "source": [
    "len(partition[\"validation\"])"
   ]
  },
  {
   "cell_type": "code",
   "execution_count": 7,
   "metadata": {},
   "outputs": [
    {
     "data": {
      "text/plain": [
       "{'train': array([   0,    1,    2, ..., 3856, 3857, 3858]),\n",
       " 'validation': array([3859, 3860, 3861, ..., 5143, 5144, 5145])}"
      ]
     },
     "execution_count": 7,
     "metadata": {},
     "output_type": "execute_result"
    }
   ],
   "source": [
    "partition"
   ]
  },
  {
   "cell_type": "code",
   "execution_count": 8,
   "metadata": {},
   "outputs": [
    {
     "name": "stderr",
     "output_type": "stream",
     "text": [
      "All model checkpoint layers were used when initializing TFViTModel.\n",
      "\n",
      "All the layers of TFViTModel were initialized from the model checkpoint at google/vit-base-patch16-224-in21k.\n",
      "If your task is similar to the task the model of the checkpoint was trained on, you can already use TFViTModel for predictions without further training.\n"
     ]
    }
   ],
   "source": [
    "siamese_obj = network.SiameseNetwork()\n",
    "siamese_network = siamese_obj.make_siamese_net()"
   ]
  },
  {
   "cell_type": "code",
   "execution_count": 9,
   "metadata": {},
   "outputs": [
    {
     "name": "stdout",
     "output_type": "stream",
     "text": [
      "Model: \"siamese_network\"\n",
      "__________________________________________________________________________________________________\n",
      " Layer (type)                   Output Shape         Param #     Connected to                     \n",
      "==================================================================================================\n",
      " pixel_values1 (InputLayer)     [(None, 224, 224, 3  0           []                               \n",
      "                                )]                                                                \n",
      "                                                                                                  \n",
      " pixel_values2 (InputLayer)     [(None, 224, 224, 3  0           []                               \n",
      "                                )]                                                                \n",
      "                                                                                                  \n",
      " permute (Permute)              (None, 3, 224, 224)  0           ['pixel_values1[0][0]']          \n",
      "                                                                                                  \n",
      " permute_1 (Permute)            (None, 3, 224, 224)  0           ['pixel_values2[0][0]']          \n",
      "                                                                                                  \n",
      " vit (TFViTMainLayer)           TFBaseModelOutputWi  86389248    ['permute[0][0]',                \n",
      "                                thPooling(last_hidd               'permute_1[0][0]']              \n",
      "                                en_state=(None, 197                                               \n",
      "                                , 768),                                                           \n",
      "                                 pooler_output=(Non                                               \n",
      "                                e, 768),                                                          \n",
      "                                 hidden_states=None                                               \n",
      "                                , attentions=None)                                                \n",
      "                                                                                                  \n",
      " l1_dist (L1Dist)               (None, 768)          0           ['vit[0][1]',                    \n",
      "                                                                  'vit[1][1]']                    \n",
      "                                                                                                  \n",
      " outputs (Dense)                (None, 1)            769         ['l1_dist[0][0]']                \n",
      "                                                                                                  \n",
      "==================================================================================================\n",
      "Total params: 86,390,017\n",
      "Trainable params: 86,390,017\n",
      "Non-trainable params: 0\n",
      "__________________________________________________________________________________________________\n"
     ]
    }
   ],
   "source": [
    "siamese_network.summary()"
   ]
  },
  {
   "cell_type": "code",
   "execution_count": 10,
   "metadata": {},
   "outputs": [],
   "source": [
    "siamese_network.compile(loss= loss.loss(1), optimizer=tf.keras.optimizers.Adam(learning_rate=0.5e-3), # 0.5e-6\n",
    "                    metrics=[\"accuracy\"])"
   ]
  },
  {
   "cell_type": "code",
   "execution_count": 11,
   "metadata": {},
   "outputs": [],
   "source": [
    "checkpoint_path = os.path.join(home, 'checkpoints')\n",
    "checkpoint = ModelCheckpoint(checkpoint_path, monitor='val_accuracy', \n",
    "                             verbose=1, save_best_only=True, mode='max')\n",
    "early_callback=tf.keras.callbacks.EarlyStopping(monitor=\"val_accuracy\",patience=35, restore_best_weights=True)"
   ]
  },
  {
   "cell_type": "code",
   "execution_count": 12,
   "metadata": {},
   "outputs": [],
   "source": [
    "# callbacks_list = [early_callback,checkpoint]\n",
    "def scheduler(epoch, lr):\n",
    "    if epoch < 5:\n",
    "        return lr\n",
    "    else:\n",
    "        lr = lr * tf.math.exp(-0.05)\n",
    "        if lr >= 1e-8:\n",
    "            return lr\n",
    "        else:\n",
    "            return 1e-8\n",
    "# 0.5e-7\n",
    "\n",
    "class print_lr(tf.keras.callbacks.Callback):\n",
    "    def on_epoch_end(self, epoch, logs=None):\n",
    "        print(keras.backend.eval(self.model.optimizer.lr))\n",
    "\n",
    "lr_sched = LearningRateScheduler(scheduler)\n",
    "\n",
    "callbacks_list = [early_callback, lr_sched, checkpoint, print_lr()]"
   ]
  },
  {
   "cell_type": "code",
   "execution_count": 13,
   "metadata": {},
   "outputs": [
    {
     "name": "stdout",
     "output_type": "stream",
     "text": [
      "Epoch 1/500\n"
     ]
    },
    {
     "name": "stderr",
     "output_type": "stream",
     "text": [
      "2023-03-09 00:58:45.802489: W tensorflow/tsl/framework/bfc_allocator.cc:479] Allocator (GPU_0_bfc) ran out of memory trying to allocate 28.42MiB (rounded to 29805312)requested by op siamese_network/vit/encoder/layer_._5/attention/attention/Softmax\n",
      "If the cause is memory fragmentation maybe the environment variable 'TF_GPU_ALLOCATOR=cuda_malloc_async' will improve the situation. \n",
      "Current allocation summary follows.\n",
      "Current allocation summary follows.\n",
      "2023-03-09 00:58:45.805160: W tensorflow/tsl/framework/bfc_allocator.cc:492] ****************************************************************************************************\n",
      "2023-03-09 00:58:45.805237: W tensorflow/core/framework/op_kernel.cc:1830] OP_REQUIRES failed at softmax_op_gpu.cu.cc:222 : RESOURCE_EXHAUSTED: OOM when allocating tensor with shape[16,12,197,197] and type float on /job:localhost/replica:0/task:0/device:GPU:0 by allocator GPU_0_bfc\n"
     ]
    },
    {
     "ename": "RuntimeError",
     "evalue": "pybind11::error_already_set: MISMATCH of original and normalized active exception types: ORIGINAL ResourceExhaustedError REPLACED BY KeyboardInterrupt: <EMPTY MESSAGE>\n\nAt:\n  /home/halim/anaconda3/envs/ViT-setup/lib/python3.10/site-packages/tensorflow/python/framework/errors_impl.py(372): __init__\n  /home/halim/anaconda3/envs/ViT-setup/lib/python3.10/site-packages/tensorflow/python/eager/execute.py(52): quick_execute\n  /home/halim/anaconda3/envs/ViT-setup/lib/python3.10/site-packages/tensorflow/python/eager/polymorphic_function/monomorphic_function.py(378): call\n  /home/halim/anaconda3/envs/ViT-setup/lib/python3.10/site-packages/tensorflow/python/eager/polymorphic_function/monomorphic_function.py(1745): _call_flat\n  /home/halim/anaconda3/envs/ViT-setup/lib/python3.10/site-packages/tensorflow/python/eager/polymorphic_function/tracing_compiler.py(134): __call__\n  /home/halim/anaconda3/envs/ViT-setup/lib/python3.10/site-packages/tensorflow/python/eager/polymorphic_function/polymorphic_function.py(945): _call\n  /home/halim/anaconda3/envs/ViT-setup/lib/python3.10/site-packages/tensorflow/python/eager/polymorphic_function/polymorphic_function.py(880): __call__\n  /home/halim/anaconda3/envs/ViT-setup/lib/python3.10/site-packages/tensorflow/python/util/traceback_utils.py(150): error_handler\n  /home/halim/anaconda3/envs/ViT-setup/lib/python3.10/site-packages/keras/engine/training.py(1650): fit\n  /home/halim/anaconda3/envs/ViT-setup/lib/python3.10/site-packages/keras/utils/traceback_utils.py(65): error_handler\n  /tmp/ipykernel_19344/2135819033.py(6): <module>\n  /home/halim/.local/lib/python3.10/site-packages/IPython/core/interactiveshell.py(3433): run_code\n  /home/halim/.local/lib/python3.10/site-packages/IPython/core/interactiveshell.py(3373): run_ast_nodes\n  /home/halim/.local/lib/python3.10/site-packages/IPython/core/interactiveshell.py(3194): run_cell_async\n  /home/halim/.local/lib/python3.10/site-packages/IPython/core/async_helpers.py(129): _pseudo_sync_runner\n  /home/halim/.local/lib/python3.10/site-packages/IPython/core/interactiveshell.py(2995): _run_cell\n  /home/halim/.local/lib/python3.10/site-packages/IPython/core/interactiveshell.py(2940): run_cell\n  /home/halim/anaconda3/envs/ViT-setup/lib/python3.10/site-packages/ipykernel/zmqshell.py(540): run_cell\n  /home/halim/anaconda3/envs/ViT-setup/lib/python3.10/site-packages/ipykernel/ipkernel.py(422): do_execute\n  /home/halim/anaconda3/envs/ViT-setup/lib/python3.10/site-packages/ipykernel/kernelbase.py(729): execute_request\n  /home/halim/anaconda3/envs/ViT-setup/lib/python3.10/site-packages/ipykernel/kernelbase.py(409): dispatch_shell\n  /home/halim/anaconda3/envs/ViT-setup/lib/python3.10/site-packages/ipykernel/kernelbase.py(502): process_one\n  /home/halim/anaconda3/envs/ViT-setup/lib/python3.10/site-packages/ipykernel/kernelbase.py(513): dispatch_queue\n  /home/halim/anaconda3/envs/ViT-setup/lib/python3.10/asyncio/events.py(80): _run\n  /home/halim/anaconda3/envs/ViT-setup/lib/python3.10/asyncio/base_events.py(1906): _run_once\n  /home/halim/anaconda3/envs/ViT-setup/lib/python3.10/asyncio/base_events.py(603): run_forever\n  /home/halim/anaconda3/envs/ViT-setup/lib/python3.10/site-packages/tornado/platform/asyncio.py(215): start\n  /home/halim/anaconda3/envs/ViT-setup/lib/python3.10/site-packages/ipykernel/kernelapp.py(725): start\n  /home/halim/.local/lib/python3.10/site-packages/traitlets/config/application.py(992): launch_instance\n  /home/halim/anaconda3/envs/ViT-setup/lib/python3.10/site-packages/ipykernel_launcher.py(17): <module>\n  /home/halim/anaconda3/envs/ViT-setup/lib/python3.10/runpy.py(86): _run_code\n  /home/halim/anaconda3/envs/ViT-setup/lib/python3.10/runpy.py(196): _run_module_as_main\n",
     "output_type": "error",
     "traceback": [
      "\u001b[0;31m---------------------------------------------------------------------------\u001b[0m",
      "\u001b[0;31mRuntimeError\u001b[0m                              Traceback (most recent call last)",
      "Cell \u001b[0;32mIn[13], line 6\u001b[0m\n\u001b[1;32m      4\u001b[0m batch_size\u001b[39m=\u001b[39m\u001b[39m32\u001b[39m\n\u001b[1;32m      5\u001b[0m epochs\u001b[39m=\u001b[39m\u001b[39m500\u001b[39m\n\u001b[0;32m----> 6\u001b[0m history \u001b[39m=\u001b[39m siamese_network\u001b[39m.\u001b[39;49mfit(\n\u001b[1;32m      7\u001b[0m     train_generator,\n\u001b[1;32m      8\u001b[0m     validation_data\u001b[39m=\u001b[39;49mval_generator,\n\u001b[1;32m      9\u001b[0m     callbacks\u001b[39m=\u001b[39;49mcallbacks_list,\n\u001b[1;32m     10\u001b[0m     epochs\u001b[39m=\u001b[39;49mepochs,\n\u001b[1;32m     11\u001b[0m )\n\u001b[1;32m     12\u001b[0m \u001b[39m# history = siamese_net.fit(\u001b[39;00m\n\u001b[1;32m     13\u001b[0m \u001b[39m#     [x_train_1, x_train_2],\u001b[39;00m\n\u001b[1;32m     14\u001b[0m \u001b[39m#     y_train,\u001b[39;00m\n\u001b[0;32m   (...)\u001b[0m\n\u001b[1;32m     19\u001b[0m \u001b[39m#     # sample_weight=sample_weight,\u001b[39;00m\n\u001b[1;32m     20\u001b[0m \u001b[39m# )\u001b[39;00m\n\u001b[1;32m     22\u001b[0m \u001b[39mprint\u001b[39m(\u001b[39mmax\u001b[39m(history\u001b[39m.\u001b[39mhistory[\u001b[39m\"\u001b[39m\u001b[39mval_accuracy\u001b[39m\u001b[39m\"\u001b[39m]))\n",
      "File \u001b[0;32m~/anaconda3/envs/ViT-setup/lib/python3.10/site-packages/keras/utils/traceback_utils.py:70\u001b[0m, in \u001b[0;36mfilter_traceback.<locals>.error_handler\u001b[0;34m(*args, **kwargs)\u001b[0m\n\u001b[1;32m     67\u001b[0m     filtered_tb \u001b[39m=\u001b[39m _process_traceback_frames(e\u001b[39m.\u001b[39m__traceback__)\n\u001b[1;32m     68\u001b[0m     \u001b[39m# To get the full stack trace, call:\u001b[39;00m\n\u001b[1;32m     69\u001b[0m     \u001b[39m# `tf.debugging.disable_traceback_filtering()`\u001b[39;00m\n\u001b[0;32m---> 70\u001b[0m     \u001b[39mraise\u001b[39;00m e\u001b[39m.\u001b[39mwith_traceback(filtered_tb) \u001b[39mfrom\u001b[39;00m \u001b[39mNone\u001b[39m\n\u001b[1;32m     71\u001b[0m \u001b[39mfinally\u001b[39;00m:\n\u001b[1;32m     72\u001b[0m     \u001b[39mdel\u001b[39;00m filtered_tb\n",
      "File \u001b[0;32m~/anaconda3/envs/ViT-setup/lib/python3.10/site-packages/tensorflow/python/eager/execute.py:52\u001b[0m, in \u001b[0;36mquick_execute\u001b[0;34m(op_name, num_outputs, inputs, attrs, ctx, name)\u001b[0m\n\u001b[1;32m     50\u001b[0m \u001b[39mtry\u001b[39;00m:\n\u001b[1;32m     51\u001b[0m   ctx\u001b[39m.\u001b[39mensure_initialized()\n\u001b[0;32m---> 52\u001b[0m   tensors \u001b[39m=\u001b[39m pywrap_tfe\u001b[39m.\u001b[39mTFE_Py_Execute(ctx\u001b[39m.\u001b[39m_handle, device_name, op_name,\n\u001b[1;32m     53\u001b[0m                                       inputs, attrs, num_outputs)\n\u001b[1;32m     54\u001b[0m \u001b[39mexcept\u001b[39;00m core\u001b[39m.\u001b[39m_NotOkStatusException \u001b[39mas\u001b[39;00m e:\n\u001b[1;32m     55\u001b[0m   \u001b[39mif\u001b[39;00m name \u001b[39mis\u001b[39;00m \u001b[39mnot\u001b[39;00m \u001b[39mNone\u001b[39;00m:\n",
      "\u001b[0;31mRuntimeError\u001b[0m: pybind11::error_already_set: MISMATCH of original and normalized active exception types: ORIGINAL ResourceExhaustedError REPLACED BY KeyboardInterrupt: <EMPTY MESSAGE>\n\nAt:\n  /home/halim/anaconda3/envs/ViT-setup/lib/python3.10/site-packages/tensorflow/python/framework/errors_impl.py(372): __init__\n  /home/halim/anaconda3/envs/ViT-setup/lib/python3.10/site-packages/tensorflow/python/eager/execute.py(52): quick_execute\n  /home/halim/anaconda3/envs/ViT-setup/lib/python3.10/site-packages/tensorflow/python/eager/polymorphic_function/monomorphic_function.py(378): call\n  /home/halim/anaconda3/envs/ViT-setup/lib/python3.10/site-packages/tensorflow/python/eager/polymorphic_function/monomorphic_function.py(1745): _call_flat\n  /home/halim/anaconda3/envs/ViT-setup/lib/python3.10/site-packages/tensorflow/python/eager/polymorphic_function/tracing_compiler.py(134): __call__\n  /home/halim/anaconda3/envs/ViT-setup/lib/python3.10/site-packages/tensorflow/python/eager/polymorphic_function/polymorphic_function.py(945): _call\n  /home/halim/anaconda3/envs/ViT-setup/lib/python3.10/site-packages/tensorflow/python/eager/polymorphic_function/polymorphic_function.py(880): __call__\n  /home/halim/anaconda3/envs/ViT-setup/lib/python3.10/site-packages/tensorflow/python/util/traceback_utils.py(150): error_handler\n  /home/halim/anaconda3/envs/ViT-setup/lib/python3.10/site-packages/keras/engine/training.py(1650): fit\n  /home/halim/anaconda3/envs/ViT-setup/lib/python3.10/site-packages/keras/utils/traceback_utils.py(65): error_handler\n  /tmp/ipykernel_19344/2135819033.py(6): <module>\n  /home/halim/.local/lib/python3.10/site-packages/IPython/core/interactiveshell.py(3433): run_code\n  /home/halim/.local/lib/python3.10/site-packages/IPython/core/interactiveshell.py(3373): run_ast_nodes\n  /home/halim/.local/lib/python3.10/site-packages/IPython/core/interactiveshell.py(3194): run_cell_async\n  /home/halim/.local/lib/python3.10/site-packages/IPython/core/async_helpers.py(129): _pseudo_sync_runner\n  /home/halim/.local/lib/python3.10/site-packages/IPython/core/interactiveshell.py(2995): _run_cell\n  /home/halim/.local/lib/python3.10/site-packages/IPython/core/interactiveshell.py(2940): run_cell\n  /home/halim/anaconda3/envs/ViT-setup/lib/python3.10/site-packages/ipykernel/zmqshell.py(540): run_cell\n  /home/halim/anaconda3/envs/ViT-setup/lib/python3.10/site-packages/ipykernel/ipkernel.py(422): do_execute\n  /home/halim/anaconda3/envs/ViT-setup/lib/python3.10/site-packages/ipykernel/kernelbase.py(729): execute_request\n  /home/halim/anaconda3/envs/ViT-setup/lib/python3.10/site-packages/ipykernel/kernelbase.py(409): dispatch_shell\n  /home/halim/anaconda3/envs/ViT-setup/lib/python3.10/site-packages/ipykernel/kernelbase.py(502): process_one\n  /home/halim/anaconda3/envs/ViT-setup/lib/python3.10/site-packages/ipykernel/kernelbase.py(513): dispatch_queue\n  /home/halim/anaconda3/envs/ViT-setup/lib/python3.10/asyncio/events.py(80): _run\n  /home/halim/anaconda3/envs/ViT-setup/lib/python3.10/asyncio/base_events.py(1906): _run_once\n  /home/halim/anaconda3/envs/ViT-setup/lib/python3.10/asyncio/base_events.py(603): run_forever\n  /home/halim/anaconda3/envs/ViT-setup/lib/python3.10/site-packages/tornado/platform/asyncio.py(215): start\n  /home/halim/anaconda3/envs/ViT-setup/lib/python3.10/site-packages/ipykernel/kernelapp.py(725): start\n  /home/halim/.local/lib/python3.10/site-packages/traitlets/config/application.py(992): launch_instance\n  /home/halim/anaconda3/envs/ViT-setup/lib/python3.10/site-packages/ipykernel_launcher.py(17): <module>\n  /home/halim/anaconda3/envs/ViT-setup/lib/python3.10/runpy.py(86): _run_code\n  /home/halim/anaconda3/envs/ViT-setup/lib/python3.10/runpy.py(196): _run_module_as_main\n"
     ]
    }
   ],
   "source": [
    "# Fit the model\n",
    "# siamese_net = keras.models.load_model('checkpoints', custom_objects={ 'contrastive_loss': loss(1) })\n",
    "\n",
    "batch_size=32\n",
    "epochs=500\n",
    "history = siamese_network.fit(\n",
    "    train_generator,\n",
    "    validation_data=val_generator,\n",
    "    callbacks=callbacks_list,\n",
    "    epochs=epochs,\n",
    ")\n",
    "# history = siamese_net.fit(\n",
    "#     [x_train_1, x_train_2],\n",
    "#     y_train,\n",
    "#     validation_data=([x_val_1, x_val_2], y_val),\n",
    "#     batch_size=batch_size,\n",
    "#     callbacks=callbacks_list,\n",
    "#     epochs=epochs,\n",
    "#     # sample_weight=sample_weight,\n",
    "# )\n",
    "\n",
    "print(max(history.history[\"val_accuracy\"]))"
   ]
  },
  {
   "cell_type": "code",
   "execution_count": null,
   "metadata": {},
   "outputs": [],
   "source": []
  }
 ],
 "metadata": {
  "kernelspec": {
   "display_name": "ViT-setup",
   "language": "python",
   "name": "python3"
  },
  "language_info": {
   "codemirror_mode": {
    "name": "ipython",
    "version": 3
   },
   "file_extension": ".py",
   "mimetype": "text/x-python",
   "name": "python",
   "nbconvert_exporter": "python",
   "pygments_lexer": "ipython3",
   "version": "3.10.9"
  },
  "orig_nbformat": 4,
  "vscode": {
   "interpreter": {
    "hash": "d789d158354eadcf0eda52a6f4ad554f604453f498999fa62f33dfc007e2e6d7"
   }
  }
 },
 "nbformat": 4,
 "nbformat_minor": 2
}
