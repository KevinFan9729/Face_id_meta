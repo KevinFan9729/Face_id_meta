{
 "cells": [
  {
   "cell_type": "code",
   "execution_count": 14,
   "metadata": {},
   "outputs": [],
   "source": [
    "import os\n",
    "import shutil\n",
    "\n",
    "home=os.path.abspath(os.getcwd())\n",
    "dir = 'face_photos'\n",
    "male = set()\n",
    "female = set()\n",
    "\n",
    "for filename in os.listdir(dir):\n",
    "    root, ext = os.path.splitext(filename)\n",
    "    if (ext == '.bmp'):\n",
    "        x = root.split(\"-\")\n",
    "        folder = home + \"/face_photos\" + \"/\" + str(x[0]) + \"-\" + str(x[1])\n",
    "        if not os.path.exists(folder):\n",
    "            os.makedirs(folder)\n",
    "        shutil.move(home+ \"/face_photos\" + \"/\" + filename, folder)\n"
   ]
  },
  {
   "cell_type": "code",
   "execution_count": 10,
   "metadata": {},
   "outputs": [
    {
     "data": {
      "text/plain": [
       "'/home/halim/Documents/ECE613/GitHub/Face_id_meta/face_photos'"
      ]
     },
     "execution_count": 10,
     "metadata": {},
     "output_type": "execute_result"
    }
   ],
   "source": [
    "home=os.path.abspath(os.getcwd())\n",
    "\n",
    "home+\"/face_photos\""
   ]
  },
  {
   "cell_type": "code",
   "execution_count": 12,
   "metadata": {},
   "outputs": [
    {
     "name": "stdout",
     "output_type": "stream",
     "text": [
      "Does not exist\n"
     ]
    }
   ],
   "source": [
    "home=os.path.abspath(os.getcwd())\n",
    "if not os.path.exists(home+\"/face_photos\"):\n",
    "    print(\"Does not exist\")"
   ]
  },
  {
   "cell_type": "code",
   "execution_count": null,
   "metadata": {},
   "outputs": [],
   "source": [
    "if root.startswith('M'):\n",
    "    print(root)"
   ]
  },
  {
   "cell_type": "code",
   "execution_count": 18,
   "metadata": {},
   "outputs": [],
   "source": [
    "for filename in os.listdir(dir):\n",
    "    root, ext = os.path.splitext(filename)\n",
    "    if ext == \".txt\":\n",
    "        os.remove(home+ \"/face_photos\" + \"/\" + filename)"
   ]
  },
  {
   "cell_type": "code",
   "execution_count": null,
   "metadata": {},
   "outputs": [],
   "source": []
  },
  {
   "cell_type": "markdown",
   "metadata": {},
   "source": []
  },
  {
   "cell_type": "markdown",
   "metadata": {},
   "source": []
  },
  {
   "attachments": {},
   "cell_type": "markdown",
   "metadata": {},
   "source": [
    "ADDITIONAL THINGS..."
   ]
  },
  {
   "cell_type": "code",
   "execution_count": 28,
   "metadata": {},
   "outputs": [],
   "source": [
    "dir_shortlist = \"face_photos_shortlist\"\n",
    "for filename in os.listdir(dir_shortlist):\n",
    "    # root, ext = os.path.splitext(filename)\n",
    "    # print(root)\n",
    "    for filename2 in os.listdir(dir_shortlist + \"/\" + filename):\n",
    "        root, ext = os.path.splitext(filename2)\n",
    "        if not(root.endswith(\"01\") or root.endswith(\"02\") or root.endswith(\"03\")):\n",
    "            # print(home+ \"/\" + dir_shortlist + \"/\" + filename + \"/\" + filename2)\n",
    "            file_dir = home+ \"/\" + dir_shortlist + \"/\" + filename + \"/\" + filename2\n",
    "            os.remove(file_dir)\n",
    "        "
   ]
  },
  {
   "cell_type": "code",
   "execution_count": null,
   "metadata": {},
   "outputs": [],
   "source": []
  }
 ],
 "metadata": {
  "kernelspec": {
   "display_name": "ViT-setup",
   "language": "python",
   "name": "python3"
  },
  "language_info": {
   "codemirror_mode": {
    "name": "ipython",
    "version": 3
   },
   "file_extension": ".py",
   "mimetype": "text/x-python",
   "name": "python",
   "nbconvert_exporter": "python",
   "pygments_lexer": "ipython3",
   "version": "3.10.9"
  },
  "orig_nbformat": 4,
  "vscode": {
   "interpreter": {
    "hash": "d789d158354eadcf0eda52a6f4ad554f604453f498999fa62f33dfc007e2e6d7"
   }
  }
 },
 "nbformat": 4,
 "nbformat_minor": 2
}
