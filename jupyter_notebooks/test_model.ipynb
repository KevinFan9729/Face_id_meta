{
 "cells": [
  {
   "cell_type": "code",
   "execution_count": 14,
   "metadata": {},
   "outputs": [],
   "source": [
    "import os\n",
    "import modules.util as util\n",
    "import math\n",
    "import numpy as np\n",
    "import modules.datagenerator as dtgen\n",
    "import modules.network as network\n",
    "import modules.loss as loss\n",
    "import tensorflow as tf\n",
    "from keras.callbacks import ModelCheckpoint\n",
    "from keras.callbacks import LearningRateScheduler"
   ]
  },
  {
   "cell_type": "code",
   "execution_count": 15,
   "metadata": {},
   "outputs": [],
   "source": [
    "home=os.path.abspath(os.getcwd())\n",
    "data_path=os.path.join(home, 'data_testset')\n",
    "\n",
    "#global data\n",
    "pairs=[]\n",
    "classes=[]\n",
    "\n",
    "for file in os.listdir(data_path):\n",
    "    classes.append(file)"
   ]
  },
  {
   "cell_type": "code",
   "execution_count": 16,
   "metadata": {},
   "outputs": [],
   "source": [
    "util.make_pairs(data_path, pairs, classes)\n",
    "\n",
    "# partition = {'train': np.arange(math.floor(len(pairs)*.6)),\n",
    "#              'validation': np.arange(math.floor(len(pairs)*.6),math.floor(len(pairs)*.8)),\n",
    "#              'test': np.arange(math.floor(len(pairs)*.8), math.floor(len(pairs)))}\n",
    "\n",
    "partition = {'test': np.arange(math.floor(len(pairs)))}\n",
    "\n",
    "# Generators\n",
    "test_generator = dtgen.DataGenerator(partition['test'], pairs, batch_size=16)"
   ]
  },
  {
   "cell_type": "code",
   "execution_count": 19,
   "metadata": {},
   "outputs": [
    {
     "name": "stdout",
     "output_type": "stream",
     "text": [
      "Number of Test Pairs: 1296\n"
     ]
    }
   ],
   "source": [
    "print(f\"Number of Test Pairs: {len(partition['test'])}\")"
   ]
  },
  {
   "cell_type": "code",
   "execution_count": null,
   "metadata": {},
   "outputs": [],
   "source": [
    "siamese_obj = network.SiameseNetwork()\n",
    "siamese_network = siamese_obj.make_siamese_net()"
   ]
  },
  {
   "cell_type": "code",
   "execution_count": null,
   "metadata": {},
   "outputs": [],
   "source": [
    "checkpoint_path = os.path.join(home, 'checkpoints')\n",
    "\n",
    "# Loads the weights\n",
    "siamese_network.load_weights(checkpoint_path)\n",
    "\n",
    "# Re-evaluate the model\n",
    "loss, acc = siamese_network.evaluate(test_generator, verbose=2)\n",
    "print(\"Restored model, accuracy: {:5.2f}%\".format(100 * acc))\n"
   ]
  }
 ],
 "metadata": {
  "kernelspec": {
   "display_name": "ViT-setup",
   "language": "python",
   "name": "python3"
  },
  "language_info": {
   "codemirror_mode": {
    "name": "ipython",
    "version": 3
   },
   "file_extension": ".py",
   "mimetype": "text/x-python",
   "name": "python",
   "nbconvert_exporter": "python",
   "pygments_lexer": "ipython3",
   "version": "3.10.9"
  },
  "orig_nbformat": 4,
  "vscode": {
   "interpreter": {
    "hash": "d789d158354eadcf0eda52a6f4ad554f604453f498999fa62f33dfc007e2e6d7"
   }
  }
 },
 "nbformat": 4,
 "nbformat_minor": 2
}
